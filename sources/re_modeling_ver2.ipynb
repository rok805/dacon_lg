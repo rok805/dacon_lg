{
 "cells": [
  {
   "cell_type": "code",
   "execution_count": 2,
   "metadata": {},
   "outputs": [],
   "source": [
    "import pandas as pd\n",
    "import numpy as np\n",
    "import os\n",
    "import matplotlib.pyplot as plt\n",
    "import seaborn as sns\n",
    "import datetime\n",
    "import matplotlib.font_manager as fm\n",
    "import matplotlib as mpl\n",
    "from matplotlib import rc\n",
    "from scipy.stats import mannwhitneyu\n",
    "import datetime\n",
    "import json\n",
    "import pickle\n",
    "from tqdm import tqdm\n",
    "import warnings\n",
    "import lightgbm as lgb\n",
    "import math\n",
    "import random\n",
    "import pdb\n",
    "import re\n",
    "from collections import defaultdict\n",
    "warnings.filterwarnings(action='ignore')\n",
    "\n",
    "from sklearn.metrics import *\n",
    "from sklearn.model_selection import KFold\n",
    "\n",
    "def make_datetime(x):\n",
    "    # string 타입의 Time column을 datetime 타입으로 변경\n",
    "    x     = str(x)\n",
    "    year  = int(x[:4])\n",
    "    month = int(x[4:6])\n",
    "    day   = int(x[6:8])\n",
    "    hour  = int(x[8:10])\n",
    "    #mim  = int(x[10:12])\n",
    "    #sec  = int(x[12:])\n",
    "    return dt.datetime(year, month, day, hour)\n",
    "\n",
    "def string2num(x):\n",
    "    # (,)( )과 같은 불필요한 데이터 정제\n",
    "    x = re.sub(r\"[^0-9]+\", '', str(x))\n",
    "    if x =='':\n",
    "        return 0\n",
    "    else:\n",
    "        return int(x)\n",
    "\n",
    "def split_time(x):\n",
    "    x = str(x)\n",
    "    year = x[:4]\n",
    "    month = x[4:6]\n",
    "    day = x[6:8]\n",
    "    hour = x[8:10]\n",
    "    minute = x[10:12]\n",
    "    second = x[12:14]\n",
    "    return year, month, day, hour, minute, second\n",
    "\n",
    "def make_time_cols(df_):\n",
    "    years, months, days, hours, minutes, seconds, dates = [], [], [], [], [], [], []\n",
    "\n",
    "    for i in range(len(df_)):\n",
    "        x = df_.loc[i,'time']\n",
    "        year, month, day, hour, minute, second = split_time(x)\n",
    "        years.append(int(year))\n",
    "        months.append(int(month))\n",
    "        days.append(int(day))\n",
    "        hours.append(int(hour))\n",
    "        minutes.append(int(minute))\n",
    "        seconds.append(int(second))\n",
    "        dates.append(datetime.datetime.strptime(str(x), \"%Y%m%d%H%M%S\"))\n",
    "\n",
    "    df_['year'] = years\n",
    "    df_['month'] = months\n",
    "    df_['day'] = days\n",
    "    df_['hour']=hours\n",
    "    df_['minute'] = minutes\n",
    "    df_['second']= seconds\n",
    "    df_['date'] = dates\n",
    "    return df_\n",
    "\n",
    "\n",
    "def add_time_cols(df_):\n",
    "    df_ = make_time_cols(df_)\n",
    "    df_['weeknum'] = df_['date'].apply(lambda x: x.weekday())\n",
    "    df_['weekend'] = df_['weeknum'].apply(lambda x: 1 if x >=5 else 0)\n",
    "    df_['md'] = df_['month'].apply(lambda x: str(x).zfill(2)) + df_['day'].apply(lambda x: str(x).zfill(2))\n",
    "    return df_"
   ]
  },
  {
   "cell_type": "code",
   "execution_count": 2,
   "metadata": {},
   "outputs": [],
   "source": [
    "default_path = os.getcwd()\n",
    "data_path = os.path.join(default_path,'data')"
   ]
  },
  {
   "cell_type": "code",
   "execution_count": 3,
   "metadata": {},
   "outputs": [],
   "source": [
    "def processing_train_test(data_path, option='train'):\n",
    "    if option == 'train':\n",
    "        err_name = 'train_err_data'\n",
    "        qua_name = 'train_quality_data'\n",
    "        prob_name = 'train_problem_data'\n",
    "    elif option == 'test':\n",
    "        err_name = 'test_err_data'\n",
    "        qua_name = 'test_quality_data'\n",
    "    \n",
    "    df_err = pd.read_csv(data_path+f'/{err_name}.csv')\n",
    "    df_err['errcode'] = df_err['errcode'].astype('str')\n",
    "    df_qua = pd.read_csv(data_path+f'/{qua_name}.csv')\n",
    "    \n",
    "    for i in range(13):\n",
    "        df_qua[f'quality_{i}'] = df_qua[f'quality_{i}'].apply(lambda x: re.sub(r\"[^-0-9]+\", '', str(x)) if type(x) == str else x)\n",
    "        df_qua[f'quality_{i}'] = df_qua[f'quality_{i}'].astype(float)\n",
    "    \n",
    "    df_err['errcode'] = df_err['errcode'].astype(str)\n",
    "    df_err['fwver'] = df_err['fwver'].astype(str)\n",
    "    df_err['model_nm'] = df_err['model_nm'].astype(str)\n",
    "    \n",
    "    df_qua['fwver'] = df_qua['fwver'].astype(str)\n",
    "    \n",
    "\n",
    "    \n",
    "    files = [f'{err_name}_c', f'{qua_name}_c']\n",
    "    temp_dfs = [df_err, df_qua]\n",
    "    \n",
    "    if option == 'train':\n",
    "        files.append(f'{prob_name}_c')\n",
    "        \n",
    "        df_prob = pd.read_csv(data_path+f'/{prob_name}.csv')\n",
    "        temp_dfs.append(df_prob)\n",
    "    \n",
    "    for i in range(len(files)):\n",
    "        file = files[i]\n",
    "        if not os.path.isfile(f'{data_path}/{file}.csv'):\n",
    "            temp_dfs[i] = add_time_cols(temp_dfs[i])\n",
    "\n",
    "            # quality data 처리\n",
    "            if 'quality_data' in file:\n",
    "                temp_dfs[i]['md'] = temp_dfs[i]['md'].astype(int)\n",
    "                qua_result_df, _ = processing_quality_data(temp_dfs[0], temp_dfs[i])\n",
    "                for j in range(len(qua_result_df)):\n",
    "                    t_user_id = qua_result_df.iloc[j]['user_id']\n",
    "                    t_date = qua_result_df.iloc[j]['date']\n",
    "                    t_fwver = qua_result_df.iloc[j]['fwver']\n",
    "\n",
    "                    target_inds = temp_dfs[i][(temp_dfs[i]['user_id']==t_user_id)&(df_qua['date']==t_date)].index.tolist()\n",
    "                    temp_dfs[i].loc[target_inds,'fwver'] = t_fwver\n",
    "\n",
    "            \n",
    "            temp_dfs[i].to_csv(f'{data_path}/{file}.csv', index=False)\n",
    "            temp_dfs[i] = pd.read_csv(f'{data_path}/{file}.csv', parse_dates=['date'])\n",
    "        else:\n",
    "            pass"
   ]
  },
  {
   "cell_type": "code",
   "execution_count": 4,
   "metadata": {},
   "outputs": [],
   "source": [
    "def processing_quality_data(err_df, qua_df):\n",
    "    \n",
    "    errs = []\n",
    "    \n",
    "    g_temp_qua = qua_df.groupby(['date','md','fwver','user_id']).size().to_frame('size').reset_index()\n",
    "    \n",
    "    for id_ in tqdm(np.unique(g_temp_qua['user_id'])):\n",
    "        fwver_err = np.unique(err_df[err_df['user_id']==id_]['fwver'])\n",
    "        fwver_qua = np.unique(g_temp_qua[g_temp_qua['user_id']==id_]['fwver'])\n",
    "        sw = 0\n",
    "        if len(np.intersect1d(fwver_err, fwver_qua)) == len(fwver_err) :\n",
    "            for i in range(len(fwver_err)):\n",
    "                if fwver_err[i] != fwver_qua[i]:\n",
    "                    sw = 1\n",
    "                    break\n",
    "        else:\n",
    "            sw = 1\n",
    "        if sw== 1:\n",
    "            errs.append(id_)\n",
    "    \n",
    "    result_qua_df = pd.DataFrame({'user_id':[],'date':[],'fwver':[]})\n",
    "    temp_list = []\n",
    "    for id_ in tqdm(errs):\n",
    "        temp_err = err_df[err_df['user_id']==id_]\n",
    "        temp_qua = g_temp_qua[g_temp_qua['user_id']==id_]\n",
    "        fwver_err = np.unique(temp_err['fwver'])\n",
    "        fwver_qua = np.unique(temp_qua['fwver'])\n",
    "        if 'nan' in fwver_qua:\n",
    "            dates = temp_qua['date']\n",
    "            for date in dates:\n",
    "                t_temp_qua = temp_qua[temp_qua['date']==date]\n",
    "                t_temp_err = temp_err[temp_err['date']<date]\n",
    "\n",
    "                t_temp_qua_fwver = np.unique(t_temp_qua['fwver'])\n",
    "                t_temp_err_fwver = np.unique(t_temp_err['fwver'])\n",
    "                \n",
    "                if len(t_temp_err_fwver) == 1:\n",
    "                    result_qua_df = result_qua_df.append({'user_id':id_, 'date':date, 'fwver':t_temp_err_fwver[0]},\n",
    "                                                        ignore_index=True)\n",
    "                elif len(t_temp_err_fwver) == 0:\n",
    "                    t_temp_err = temp_err[temp_err['date']>date]\n",
    "                    t_temp_err_fwver = np.unique(t_temp_err['fwver'])\n",
    "                    result_qua_df = result_qua_df.append({'user_id':id_, 'date':date, 'fwver':t_temp_err_fwver[0]},\n",
    "                                                        ignore_index=True)\n",
    "                \n",
    "                elif len(t_temp_err_fwver) == len(t_temp_qua_fwver) or len(t_temp_err_fwver) > len(t_temp_qua_fwver):\n",
    "                    t_temp_qua_md = t_temp_qua['md'].iloc[0]\n",
    "                    t_temp_err = temp_err[temp_err['md']==t_temp_qua_md]\n",
    "                    t_temp_err_fwver = np.unique(t_temp_err['fwver'])\n",
    "                    if len(t_temp_err_fwver) == 1:\n",
    "                        result_qua_df = result_qua_df.append({'user_id':id_, 'date':date, 'fwver':t_temp_err_fwver[0]},\n",
    "                                                        ignore_index=True)\n",
    "                    else:\n",
    "                        t_temp_qua_date = t_temp_qua['date'].iloc[0]\n",
    "                        t_t_temp_err = t_temp_err[t_temp_err['date']<t_temp_qua_date]\n",
    "                        t_t_temp_err_fwver = np.unique(t_t_temp_err['fwver'])\n",
    "                        if len(t_t_temp_err_fwver) == 1:\n",
    "                            result_qua_df = result_qua_df.append({'user_id':id_, 'date':date, 'fwver':t_t_temp_err_fwver[0]},\n",
    "                                                            ignore_index=True)\n",
    "\n",
    "                        else:\n",
    "                            sw2 = 0\n",
    "                            t_temp_err_date = t_t_temp_err[t_t_temp_err['date']<t_temp_qua_date].iloc[-1]['date']\n",
    "                            if t_temp_qua_date > t_temp_err_date:\n",
    "                                sw2 = 1\n",
    "                                result_qua_df = result_qua_df.append({'user_id':id_, 'date':date, 'fwver':t_t_temp_err.iloc[i]['fwver']},\n",
    "                                                        ignore_index=True)\n",
    "\n",
    "                            if sw2 == 1:\n",
    "            \n",
    "                                continue\n",
    "                            else:\n",
    "\n",
    "                                raise ValueError\n",
    "\n",
    "                else:\n",
    "                    raise ValueError\n",
    "        \n",
    "        else:\n",
    "            if len(fwver_err) > len(fwver_qua):\n",
    "                if len(np.union1d(fwver_err, fwver_qua)) > len(fwver_err):\n",
    "                    temp_list.append(id_)\n",
    "                continue\n",
    "            elif len(fwver_err) == len(fwver_qua) and len(np.union1d(fwver_err, fwver_qua)) == len(fwver_err):\n",
    "                continue\n",
    "            else:\n",
    "                temp_list.append(id_)\n",
    "    \n",
    "    return result_qua_df, temp_list\n",
    "\n",
    "\n",
    "\n",
    "\n",
    "def processing_temp_change_df(err_df, qua_df, temp_list):\n",
    "\n",
    "    temp_change_df = pd.DataFrame({'id':[],'upgrade':[],'downgrade':[],\n",
    "                                  'change_model':[],'change_version':[],\n",
    "                                  'change_all':[]})\n",
    "\n",
    "    model_fwver_df = err_df.groupby(['model_nm','fwver']).size().to_frame('size').reset_index().drop('size',axis=1)\n",
    "\n",
    "    for id_ in tqdm(temp_list):\n",
    "        temp_err = err_df[err_df['user_id']==id_]\n",
    "        temp_qua = qua_df[qua_df['user_id']==id_]\n",
    "        fwver_err = np.unique(temp_err['fwver'])\n",
    "        fwver_qua = np.unique(temp_qua['fwver'])\n",
    "        # 순서 먼저 잡기\n",
    "        fwvers = []\n",
    "        past_fwver = temp_err.iloc[0]['fwver']\n",
    "\n",
    "\n",
    "        for i in range(1,len(temp_err)):\n",
    "            cur_fwver = temp_err.iloc[i]['fwver']\n",
    "            if past_fwver !=cur_fwver:\n",
    "                fwvers.append(past_fwver)\n",
    "            past_fwver = cur_fwver\n",
    "\n",
    "        if len(fwvers)==0:\n",
    "            fwvers.append(temp_err.iloc[0]['fwver'])\n",
    "\n",
    "        target_fwver_qua = np.setdiff1d(fwver_qua, fwvers)\n",
    "        sw = 0\n",
    "        for fwver in target_fwver_qua:\n",
    "            date = temp_qua[temp_qua['fwver']==fwver].iloc[0]['date']\n",
    "            for i in range(len(fwvers)):\n",
    "                fwver_err = fwvers[i]\n",
    "                if len (temp_err[temp_err['fwver']==fwver_err]) > 0:\n",
    "                    target_date = temp_err[temp_err['fwver']==fwver_err].iloc[0]['date']\n",
    "                    if date < target_date:\n",
    "                        sw = 1\n",
    "                        fwvers = fwvers[:i] + [fwver] + fwvers[i:]\n",
    "\n",
    "                else:\n",
    "                    continue\n",
    "\n",
    "        if len(np.setdiff1d(fwver_qua, fwvers)) > 0:\n",
    "\n",
    "            fwvers += np.setdiff1d(fwver_qua, fwvers).tolist()\n",
    "\n",
    "\n",
    "\n",
    "        upgrade = 0\n",
    "        downgrade = 0\n",
    "        change_model = 0\n",
    "        change_version = 0\n",
    "        change_all = 0\n",
    "\n",
    "\n",
    "        past_version = fwvers[0]\n",
    "        if past_version == '09.17.1431':\n",
    "\n",
    "            past_model = 'model_9'\n",
    "        else:\n",
    "            past_model = model_fwver_df[model_fwver_df['fwver']==past_version]['model_nm'].squeeze()\n",
    "        for i in range(1,len(fwvers)):\n",
    "\n",
    "            cur_version = fwvers[i]\n",
    "            if cur_version == '09.17.1431':\n",
    "                cur_model = 'model_9'\n",
    "            else:\n",
    "                cur_model = model_fwver_df[model_fwver_df['fwver']==cur_version]['model_nm'].squeeze()\n",
    "\n",
    "\n",
    "            sw = 0\n",
    "\n",
    "            if past_model != cur_model:\n",
    "                change_model +=1\n",
    "                change_all +=1\n",
    "                sw = 1\n",
    "\n",
    "            if past_version != cur_version:\n",
    "                change_version +=1\n",
    "\n",
    "                past_version_f = past_version.split('.')\n",
    "                past_version_f = float(past_version_f[0] + '.' + ''.join(past_version_f[1:]))\n",
    "\n",
    "                cur_version_f = cur_version.split('.')\n",
    "                cur_version_f = float(cur_version_f[0] + '.' + ''.join(cur_version_f[1:]))\n",
    "\n",
    "                if past_model == cur_model and past_version_f > cur_version_f:\n",
    "                    downgrade +=1\n",
    "                elif past_model == cur_model and past_version_f < cur_version_f:\n",
    "                    upgrade +=1\n",
    "                if sw == 0:\n",
    "                    change_all +=1  \n",
    "\n",
    "            past_version = cur_version\n",
    "            past_model = cur_model\n",
    "\n",
    "        temp_change_df = temp_change_df.append({'id':id_,'upgrade':upgrade,'downgrade':downgrade,\n",
    "                                  'change_model':change_model,'change_version':change_version,\n",
    "                                  'change_all':change_all}, ignore_index=True)\n",
    "    return temp_change_df"
   ]
  },
  {
   "cell_type": "code",
   "execution_count": 5,
   "metadata": {},
   "outputs": [],
   "source": [
    "def make_change_dict(err_df, qua_df, data_path, option = 'train'):\n",
    "\n",
    "    change_dict = {}\n",
    "    change_dict['id'] = []\n",
    "    change_dict['upgrade'] = []\n",
    "    change_dict['downgrade'] = []\n",
    "    change_dict['change_model'] = []\n",
    "    change_dict['change_version'] = []\n",
    "    change_dict['change_all'] = []\n",
    "    all_ids = np.unique(err_df['user_id'])\n",
    "    \n",
    "    if not os.path.isfile(f\"{data_path}/{option}_upgrade_dict.json\"):\n",
    "        for id_ in tqdm(all_ids):\n",
    "            temp_df = err_df[err_df['user_id']==id_].sort_values('date').reset_index(drop=True)\n",
    "            \n",
    "            unique_model = np.unique(temp_df['model_nm'])\n",
    "            unique_version = np.unique(temp_df['fwver'])\n",
    "            \n",
    "            if len(unique_model) != 1 or len(unique_version)!=1:\n",
    "                \n",
    "                past_version = temp_df.loc[0,'fwver']\n",
    "                past_model = temp_df.loc[0,'model_nm']\n",
    "                upgrade = 0\n",
    "                downgrade = 0\n",
    "                change_model = 0\n",
    "                change_version = 0\n",
    "                change_all = 0\n",
    "\n",
    "                for i in range(1,len(temp_df)):\n",
    "                    cur_version = temp_df.loc[i,'fwver']\n",
    "                    cur_model = temp_df.loc[i,'model_nm']\n",
    "                    sw = 0\n",
    "                    if past_model != cur_model:\n",
    "                        change_model +=1\n",
    "                        change_all +=1\n",
    "                        sw = 1\n",
    "                        \n",
    "                    if past_version != cur_version:\n",
    "                        change_version +=1\n",
    "                        \n",
    "                        past_version_f = past_version.split('.')\n",
    "                        past_version_f = float(past_version_f[0] + '.' + ''.join(past_version_f[1:]))\n",
    "\n",
    "                        cur_version_f = cur_version.split('.')\n",
    "                        cur_version_f = float(cur_version_f[0] + '.' + ''.join(cur_version_f[1:]))\n",
    "                        if past_model == cur_model and past_version_f > cur_version_f:\n",
    "                            downgrade +=1\n",
    "                        elif past_model == cur_model and past_version_f < cur_version_f:\n",
    "                            upgrade +=1\n",
    "                        if sw == 0:\n",
    "                            change_all +=1  \n",
    "                        \n",
    "                    past_version = cur_version\n",
    "                    past_model = cur_model\n",
    "\n",
    "                change_dict['id'].append(id_)\n",
    "                change_dict['upgrade'].append(upgrade)\n",
    "                change_dict['downgrade'].append(downgrade)\n",
    "                change_dict['change_model'].append(change_model)\n",
    "                change_dict['change_version'].append(change_version)\n",
    "                change_dict['change_all'].append(change_all)\n",
    "        \n",
    "\n",
    "        _, temp_list = processing_quality_data(err_df, qua_df)\n",
    "        temp_change_df = processing_temp_change_df(err_df, qua_df, temp_list)\n",
    "        \n",
    "        change_dict['id'] =list(map(int, change_dict['id']))\n",
    "        \n",
    "        for i in range(len(temp_change_df)):\n",
    "            t_id = int(temp_change_df.iloc[i]['id'])\n",
    "            upgrade = temp_change_df.iloc[i]['upgrade']\n",
    "            downgrade = temp_change_df.iloc[i]['downgrade']\n",
    "            change_model = temp_change_df.iloc[i]['change_model']\n",
    "            change_version = temp_change_df.iloc[i]['change_version']\n",
    "            change_all = temp_change_df.iloc[i]['change_all']\n",
    "            \n",
    "            try:\n",
    "                t_ind = change_dict['id'].index(t_id)\n",
    "                change_dict['id'][t_ind] = t_id\n",
    "                change_dict['upgrade'][t_ind] = upgrade\n",
    "                change_dict['downgrade'][t_ind] = downgrade\n",
    "                change_dict['change_model'][t_ind] = change_model\n",
    "                change_dict['change_version'][t_ind] = change_version\n",
    "                change_dict['change_all'][t_ind] = change_all\n",
    "                \n",
    "            except ValueError :\n",
    "                change_dict['id'].append(t_id)\n",
    "                change_dict['upgrade'].append(upgrade)\n",
    "                change_dict['downgrade'].append(downgrade)\n",
    "                change_dict['change_model'].append(change_model)\n",
    "                change_dict['change_version'].append(change_version)\n",
    "                change_dict['change_all'].append(change_all)\n",
    "            \n",
    "            \n",
    "        \n",
    "        with open(f\"{data_path}/{option}_upgrade_dict.json\", \"w\") as f:\n",
    "            json.dump(change_dict, f)\n",
    "    else:\n",
    "        pass\n",
    "\n",
    "    "
   ]
  },
  {
   "cell_type": "code",
   "execution_count": 6,
   "metadata": {},
   "outputs": [],
   "source": [
    "processing_train_test(data_path, 'train')\n",
    "processing_train_test(data_path, 'test')"
   ]
  },
  {
   "cell_type": "code",
   "execution_count": null,
   "metadata": {},
   "outputs": [],
   "source": []
  },
  {
   "cell_type": "code",
   "execution_count": 7,
   "metadata": {},
   "outputs": [],
   "source": [
    "train_err = pd.read_csv(data_path+'/train_err_data_c.csv', parse_dates=['date'])\n",
    "test_err = pd.read_csv(data_path+'/test_err_data_c.csv', parse_dates=['date'])\n",
    "\n",
    "train_qua = pd.read_csv(data_path+'/train_quality_data_c.csv', parse_dates=['date'])\n",
    "test_qua = pd.read_csv(data_path+'/test_quality_data_c.csv', parse_dates=['date'])"
   ]
  },
  {
   "cell_type": "code",
   "execution_count": 8,
   "metadata": {
    "scrolled": true
   },
   "outputs": [],
   "source": [
    "if not os.path.isfile(f\"{data_path}/train_upgrade_dict.json\"):\n",
    "    make_change_dict(train_err, train_qua, data_path, option = 'train')\n",
    "if not os.path.isfile(f\"{data_path}/test_upgrade_dict.json\"):\n",
    "    make_change_dict(test_err, test_qua, data_path, option = 'test')"
   ]
  },
  {
   "cell_type": "code",
   "execution_count": 9,
   "metadata": {},
   "outputs": [],
   "source": [
    "with open(f\"{data_path}/train_upgrade_dict.json\", \"r\") as f:\n",
    "    train_change_dict = json.load(f)\n",
    "with open(f\"{data_path}/test_upgrade_dict.json\", \"r\") as f:\n",
    "    test_change_dict = json.load(f)"
   ]
  },
  {
   "cell_type": "code",
   "execution_count": 10,
   "metadata": {},
   "outputs": [],
   "source": [
    "def extract_change_df(change_dict):\n",
    "\n",
    "    change_df = pd.DataFrame({'user_id':change_dict['id'], 'upgrade':change_dict['upgrade'],\n",
    "                         'downgrade':change_dict['downgrade'], 'change_model':change_dict['change_model'],\n",
    "                         'change_version':change_dict['change_version'],\n",
    "                         'change_all':change_dict['change_all']})\n",
    "    return change_df"
   ]
  },
  {
   "cell_type": "code",
   "execution_count": 11,
   "metadata": {},
   "outputs": [],
   "source": [
    "train_change_df = extract_change_df(train_change_dict)\n",
    "test_change_df = extract_change_df(test_change_dict)"
   ]
  },
  {
   "cell_type": "code",
   "execution_count": 12,
   "metadata": {},
   "outputs": [],
   "source": [
    "train_qua = pd.read_csv(data_path+'/train_quality_data_c.csv', parse_dates=['date'])\n",
    "test_qua = pd.read_csv(data_path+'/test_quality_data_c.csv', parse_dates=['date'])"
   ]
  },
  {
   "cell_type": "code",
   "execution_count": 13,
   "metadata": {},
   "outputs": [],
   "source": [
    "def make_delete_errcode_dict(err_df):\n",
    "    # 5, 32, 38\n",
    "    delete_cols = []\n",
    "    for errtype in [5,32,38]:\n",
    "        target_err_df = err_df[err_df['errtype']==errtype]\n",
    "        target_err_df = target_err_df.groupby(['user_id','errcode']).size().to_frame('size').reset_index()\n",
    "        target_err_df['size'] = 1\n",
    "        target_err_pivot = make_pivot_table(target_err_df, 'errcode')\n",
    "        target_err_pivot = target_err_pivot.drop('user_id', axis=1)\n",
    "        target_sums = np.sum(target_err_pivot, axis=0)\n",
    "        mean = np.mean(target_sums)\n",
    "        target_cols = target_sums[target_sums<mean].index.tolist()\n",
    "        for i in range(len(target_cols)):\n",
    "            t_col = target_cols[i]\n",
    "            t_col = f'{str(errtype)}_{t_col.split(\"_\")[2]}'\n",
    "            target_cols[i] = t_col\n",
    "            \n",
    "        delete_cols += target_cols\n",
    "    return delete_cols"
   ]
  },
  {
   "cell_type": "code",
   "execution_count": null,
   "metadata": {},
   "outputs": [],
   "source": []
  },
  {
   "cell_type": "code",
   "execution_count": null,
   "metadata": {},
   "outputs": [],
   "source": []
  },
  {
   "cell_type": "code",
   "execution_count": null,
   "metadata": {},
   "outputs": [],
   "source": []
  },
  {
   "cell_type": "code",
   "execution_count": null,
   "metadata": {},
   "outputs": [],
   "source": []
  },
  {
   "cell_type": "markdown",
   "metadata": {},
   "source": [
    "## 모델링"
   ]
  },
  {
   "cell_type": "code",
   "execution_count": 17,
   "metadata": {},
   "outputs": [],
   "source": [
    "def processing_qua(qua_df):\n",
    "    quality_cols = [f'quality_{i}' for i in range(13)]\n",
    "    temp_size_qua = qua_df.groupby(['user_id','date']).sum().reset_index()\n",
    "    temp_size_qua = temp_size_qua.groupby(['user_id']).size().to_frame('quality_num').reset_index()\n",
    "    temp_size_qua['quality_num'] = temp_size_qua['quality_num'].apply(lambda x: 1 if x != 0 else 0)\n",
    "    \n",
    "    temp_mean_qua = qua_df.copy()\n",
    "    temp_mean_qua = temp_mean_qua.fillna(0)\n",
    "    temp_mean_qua = temp_mean_qua.groupby(['user_id']).mean().reset_index()[['user_id']+quality_cols]\n",
    "    f_qua_df = pd.merge(temp_size_qua, temp_mean_qua, on='user_id', how='left')\n",
    "    return f_qua_df\n",
    "\n",
    "def make_pivot_table(err_df, col, appear_option = False, test_err_df=None, test_option=False):\n",
    "    err_pivot = err_df.groupby(['user_id',col]).size().to_frame('size').reset_index()\n",
    "    err_pivot= pd.pivot_table(err_pivot, index='user_id', columns=[col], values='size').add_prefix(f'col_{col}_')\n",
    "    err_pivot.index.name = None\n",
    "    err_pivot.columns.name = None\n",
    "    err_pivot = err_pivot.fillna(0)\n",
    "    err_pivot['user_id'] = err_pivot.index.tolist()\n",
    "    err_pivot = err_pivot.reset_index(drop=True)\n",
    "    if test_option == True:\n",
    "        test_unique_values = np.unique(test_err_df[col])\n",
    "        need_cols = np.setdiff1d(test_unique_values, np.unique(err_df[col]))\n",
    "        for t_col in need_cols:\n",
    "            err_pivot[f'col_{col}_{t_col}'] = 0\n",
    "            \n",
    "    if appear_option == True:\n",
    "        for t_col in err_pivot:\n",
    "            if t_col =='user_id':\n",
    "                continue\n",
    "            err_pivot[t_col] = err_pivot[t_col].apply(lambda x: 1 if x != 0 else 0)\n",
    "        \n",
    "    return err_pivot"
   ]
  },
  {
   "cell_type": "code",
   "execution_count": 18,
   "metadata": {},
   "outputs": [],
   "source": [
    "train_ids = np.unique(train_err['user_id'])"
   ]
  },
  {
   "cell_type": "code",
   "execution_count": 19,
   "metadata": {},
   "outputs": [],
   "source": [
    "# 모델 추출\n",
    "def make_model_df(train_err, col):\n",
    "    temp_df = train_err.groupby([col,'user_id']).sum().reset_index()\n",
    "    temp_df = temp_df.groupby([col,'user_id']).size().to_frame('size').reset_index()\n",
    "    model_pivot = pd.pivot_table(temp_df, index='user_id', columns=col, values='size').fillna(0)\n",
    "    model_pivot.index.name = None\n",
    "    model_pivot.columns.name = None\n",
    "    model_pivot['user_id'] = model_pivot.index.tolist()\n",
    "    model_pivot = model_pivot.reset_index(drop=True)\n",
    "    return model_pivot\n",
    "#model_pivot = make_model_df(train_err, 'model_nm')\n",
    "\n",
    "\n",
    "def processing_col(test_df, train_df):\n",
    "    not_train_cols = np.setdiff1d(test_df.columns, train_df.columns)\n",
    "    add_train_cols = np.setdiff1d(train_df.columns, test_df.columns)\n",
    "    \n",
    "    for col in not_train_cols:\n",
    "        test_df = test_df.drop(col, axis=1)\n",
    "    for col in add_train_cols:\n",
    "        test_df[col] = 0\n",
    "    return test_df\n",
    "\n",
    "\n",
    "def processing_outliers(err_df, num=5):\n",
    "    \n",
    "    # 전체 error기준으로 처리\n",
    "    t1 = err_df.groupby(['user_id','errtype']).size().to_frame('size').reset_index()\n",
    "    f_ids = []\n",
    "    for i in np.unique(err_df['errtype']):\n",
    "        t_t1 = t1[t1['errtype']==i]\n",
    "        mean = np.mean(t_t1['size'])\n",
    "        std = np.std(t_t1['size'])\n",
    "\n",
    "        t_ids = t_t1[t_t1['size']>=mean+num*std]['user_id'].tolist()\n",
    "\n",
    "        f_ids += t_ids\n",
    "    err_df = err_df[~err_df['user_id'].isin(f_ids)].reset_index(drop=True)\n",
    "    \n",
    "    \n",
    "    return err_df"
   ]
  },
  {
   "cell_type": "code",
   "execution_count": 20,
   "metadata": {},
   "outputs": [],
   "source": [
    "def check_quality_in_error(err_df, err_qua):\n",
    "    targets = []\n",
    "    targets_ids = []\n",
    "    for t_id in tqdm(np.unique(err_df['user_id'])):\n",
    "        temp_qua = err_qua[err_qua['user_id']==t_id].reset_index(drop=True)\n",
    "        temp_err = err_df[err_df['user_id']==t_id].reset_index(drop=True)\n",
    "        dates = np.unique(temp_qua['date'])\n",
    "        for date in dates:\n",
    "            t_temp_qua = temp_qua[temp_qua['date']==date]\n",
    "            start = date\n",
    "            end = date + pd.Timedelta(datetime.timedelta(minutes=10*len(t_temp_qua)-1))\n",
    "            length = len(temp_err[(temp_err['date']>=start)&(temp_err['date']<=end)])\n",
    "            if  length > 0:\n",
    "                fwver = t_temp_qua.iloc[0]['fwver']\n",
    "                targets.append((t_id, pd.to_datetime(date), length, fwver))\n",
    "                targets_ids.append(t_id)\n",
    "    \n",
    "    return targets, targets_ids\n",
    "\n",
    "def processing_quality_data(err_df, qua_df):\n",
    "    targets, _ = check_quality_in_error(err_df, qua_df)\n",
    "    length_dict = defaultdict(int)\n",
    "    size_dict = defaultdict(int)\n",
    "    for i in range(len(targets)):\n",
    "        id_, _, length, _ = targets[i]\n",
    "        length_dict[id_] +=length\n",
    "        size_dict[id_] +=1\n",
    "\n",
    "    for key in size_dict.keys():\n",
    "\n",
    "        length_dict[key] /= size_dict[key]\n",
    "    \n",
    "    user_df = pd.DataFrame({'user_id':np.unique(err_df['user_id'])})\n",
    "    result_df = pd.DataFrame({'user_id':[i for i in length_dict.keys()], 'ok_err_size':[i for i in length_dict.values()]})\n",
    "    result_df = pd.merge(user_df, result_df, on='user_id', how='left').fillna(0)\n",
    "    \n",
    "    \n",
    "    \n",
    "    # 각 등장횟수 추가\n",
    "    temp_df = qua_df.groupby(['user_id','date','weeknum']).mean().reset_index()\n",
    "    temp_df = temp_df.groupby(['user_id','weeknum']).size().to_frame('size').reset_index()\n",
    "\n",
    "    temp_pivot = pd.pivot_table(temp_df, values='size', columns='weeknum', index='user_id').fillna(0).add_prefix('weeknum_size_')\n",
    "    temp_pivot.index.name = None\n",
    "    temp_pivot.columns.name = None\n",
    "    temp_pivot['user_id'] = temp_pivot.index.tolist()\n",
    "    temp_pivot = temp_pivot.reset_index(drop=True)\n",
    "    result_df = pd.merge(result_df, temp_pivot, on='user_id', how='left').fillna(0)\n",
    "    \n",
    "    # 주간 quality 값\n",
    "    temp_df = qua_df.groupby(['user_id','date','weeknum']).sum().reset_index()\n",
    "    temp_df = temp_df.groupby(['user_id','weeknum']).mean().reset_index()\n",
    "    quality_cols = ['quality_%s'%i for i in range(13)]\n",
    "    for q_col in quality_cols:\n",
    "        \n",
    "        temp_pivot = pd.pivot_table(temp_df, index='user_id', values=q_col, columns='weeknum').fillna(0)\n",
    "        temp_pivot.columns = ['%s_weeknum_%s'%(q_col, i) for i in range(7)]\n",
    "        temp_pivot.index.name = None\n",
    "        temp_pivot.columns.name = None\n",
    "        temp_pivot['user_id'] = temp_pivot.index.tolist()\n",
    "        temp_pivot = temp_pivot.reset_index(drop=True)\n",
    "        result_df = pd.merge(result_df, temp_pivot, on='user_id', how='left').fillna(0)\n",
    "        \n",
    "    return result_df\n",
    "\n",
    "def processing_err_unit_ratio(err_df, key_col='hour'):\n",
    "\n",
    "\n",
    "    col_df = ''\n",
    "    \n",
    "    if key_col == 'hour':\n",
    "        col_df = pd.DataFrame({key_col:[i for i in range(24)]})\n",
    "        target_errs = [2,3,6,7,8,10,13,14]\n",
    "\n",
    "    elif key_col == 'weeknum':\n",
    "        col_df = pd.DataFrame({key_col:[i for i in range(7)]})\n",
    "        target_errs = [2,3,7,8,9,18,19,20,21,24,25,27,28]\n",
    "\n",
    "    key_col_err = err_df.groupby(['user_id',key_col,'errtype']).size().to_frame('size').reset_index()\n",
    "    result_df = pd.DataFrame({'user_id':np.unique(train_err['user_id'])})\n",
    "    \n",
    "    \n",
    "    for errtype in np.unique(target_errs):\n",
    "        temp_df = key_col_err[key_col_err['errtype']==errtype]\n",
    "        temp_df = pd.merge(col_df, temp_df, on=key_col, how='left').fillna(0)\n",
    "        temp_pivot = pd.pivot_table(temp_df, index='user_id', columns=key_col, values='size').add_prefix(f'err_{errtype}_{key_col}_').fillna(0)\n",
    "        temp_pivot = temp_pivot/np.sum(temp_pivot,axis=1).values.reshape(-1,1)\n",
    "        temp_pivot.columns.name = None\n",
    "        temp_pivot.index.name = None\n",
    "        temp_pivot['user_id'] = temp_pivot.index.tolist()\n",
    "        temp_pivot = temp_pivot.reset_index(drop=True)\n",
    "        result_df = pd.merge(result_df, temp_pivot, on='user_id', how='left').fillna(0)\n",
    "    return result_df"
   ]
  },
  {
   "cell_type": "code",
   "execution_count": 21,
   "metadata": {},
   "outputs": [],
   "source": [
    "train_ids = np.unique(train_err['user_id'])\n",
    "train_users_df = pd.DataFrame({'user_id':train_ids})"
   ]
  },
  {
   "cell_type": "code",
   "execution_count": 22,
   "metadata": {},
   "outputs": [],
   "source": [
    "train_err = processing_outliers(train_err, num=5)"
   ]
  },
  {
   "cell_type": "code",
   "execution_count": 23,
   "metadata": {},
   "outputs": [],
   "source": [
    "# errcode 만들기\n",
    "temp_errcode_df = train_err.groupby(['user_id','errcode']).sum().reset_index()\n",
    "temp_errcode_df = temp_errcode_df.groupby('errcode').size().to_frame('size').reset_index()\n",
    "ok_err_codes = temp_errcode_df[temp_errcode_df['size']>100]['errcode'].tolist()\n",
    "ok_err_codes = ['scanning timeout','terminate by peer user','Q-64002','P-41007','P-44010','PHONE_ERR','U-82026']\n",
    "train_errcode = train_err[train_err['errcode'].isin(ok_err_codes)]\n",
    "train_errcode_pivot = make_pivot_table(train_errcode, 'errcode', False)"
   ]
  },
  {
   "cell_type": "code",
   "execution_count": 24,
   "metadata": {},
   "outputs": [],
   "source": [
    "train_errtype_pivot = make_pivot_table(train_err, 'errtype')\n",
    "train_md_pivot = make_pivot_table(train_err, 'md', False)\n",
    "train_all_error = train_err.groupby(['user_id']).size().to_frame('all_error').reset_index()\n",
    "train_model_pivot = make_pivot_table(train_err, 'model_nm', True)\n",
    "train_fwver_pivot = make_pivot_table(train_err, 'fwver', True)"
   ]
  },
  {
   "cell_type": "code",
   "execution_count": 25,
   "metadata": {},
   "outputs": [],
   "source": [
    "train_data = pd.DataFrame({'user_id': train_ids})\n",
    "train_data = pd.merge(train_data, train_errtype_pivot, on='user_id', how='left')\n",
    "\n",
    "train_data = pd.merge(train_data, train_all_error, on='user_id', how='left')\n",
    "train_data = pd.merge(train_data, train_change_df, on='user_id', how='left')\n",
    "train_data = pd.merge(train_data, train_md_pivot, on='user_id', how='left')\n",
    "train_data = pd.merge(train_data, train_fwver_pivot, on='user_id', how='left')\n",
    "\n",
    "#train_data = pd.merge(train_data, train_model_pivot, on='user_id', how='left')\n",
    "train_data = pd.merge(train_data, train_errcode_pivot, on='user_id', how='left')"
   ]
  },
  {
   "cell_type": "code",
   "execution_count": null,
   "metadata": {},
   "outputs": [],
   "source": []
  },
  {
   "cell_type": "code",
   "execution_count": 26,
   "metadata": {},
   "outputs": [],
   "source": [
    "change_df_cols = ['upgrade','downgrade','change_model','change_version','change_all']\n",
    "for col in change_df_cols:\n",
    "    train_data[col] = train_data[col].fillna(0)"
   ]
  },
  {
   "cell_type": "code",
   "execution_count": 27,
   "metadata": {},
   "outputs": [
    {
     "name": "stderr",
     "output_type": "stream",
     "text": [
      "100%|██████████| 14411/14411 [03:11<00:00, 75.22it/s]\n"
     ]
    },
    {
     "data": {
      "text/plain": [
       "\"\\nquality_cols = [f'quality_{i}' for i in range(13)]\\ntrain_qua_pivot = processing_qua(train_qua)\\ntrain_data = pd.merge(train_data, train_qua_pivot, on='user_id', how='left')\\ntrain_data = train_data.fillna(0)\\n\""
      ]
     },
     "execution_count": 27,
     "metadata": {},
     "output_type": "execute_result"
    }
   ],
   "source": [
    "# qua 합치기\n",
    "train_qua_pivot = processing_quality_data(train_err, train_qua)\n",
    "\n",
    "\"\"\"\n",
    "quality_cols = [f'quality_{i}' for i in range(13)]\n",
    "train_qua_pivot = processing_qua(train_qua)\n",
    "train_data = pd.merge(train_data, train_qua_pivot, on='user_id', how='left')\n",
    "train_data = train_data.fillna(0)\n",
    "\"\"\""
   ]
  },
  {
   "cell_type": "code",
   "execution_count": 28,
   "metadata": {},
   "outputs": [],
   "source": [
    "train_data = pd.merge(train_data, train_qua_pivot, on='user_id', how='left').fillna(0)"
   ]
  },
  {
   "cell_type": "code",
   "execution_count": 29,
   "metadata": {},
   "outputs": [],
   "source": [
    "# err 시간별, 주간별 만들기\n",
    "#train_hour_err = processing_err_unit_ratio(train_err, key_col='hour')\n",
    "#train_weeknum_err = processing_err_unit_ratio(train_err, key_col='weeknum')"
   ]
  },
  {
   "cell_type": "code",
   "execution_count": 30,
   "metadata": {},
   "outputs": [],
   "source": [
    "train_data = pd.merge(train_data, train_hour_err, on='user_id', how='left')\n",
    "train_data = pd.merge(train_data, train_weeknum_err, on='user_id', how='left')"
   ]
  },
  {
   "cell_type": "code",
   "execution_count": 31,
   "metadata": {},
   "outputs": [],
   "source": [
    "train_prob = pd.read_csv(data_path+'/train_problem_data_c.csv', parse_dates=['date'])\n",
    "prob_user_ids = np.unique(train_prob['user_id'])"
   ]
  },
  {
   "cell_type": "code",
   "execution_count": 32,
   "metadata": {},
   "outputs": [],
   "source": [
    "train_data['y'] = train_data['user_id'].apply(lambda x: 1 if x in prob_user_ids else 0)"
   ]
  },
  {
   "cell_type": "code",
   "execution_count": 33,
   "metadata": {},
   "outputs": [],
   "source": [
    "train_x = train_data.loc[:,~train_data.columns.isin(['y','user_id'])]\n",
    "x_columns = train_x.columns\n",
    "train_y = train_data[['y']]"
   ]
  },
  {
   "cell_type": "code",
   "execution_count": null,
   "metadata": {},
   "outputs": [],
   "source": [
    "\n"
   ]
  },
  {
   "cell_type": "code",
   "execution_count": null,
   "metadata": {},
   "outputs": [],
   "source": []
  },
  {
   "cell_type": "code",
   "execution_count": 34,
   "metadata": {},
   "outputs": [],
   "source": [
    "del train_errtype_pivot, train_md_pivot, train_all_error, train_model_pivot,train_errcode_pivot, train_qua_pivot, train_hour_err, train_weeknum_err"
   ]
  },
  {
   "cell_type": "code",
   "execution_count": 35,
   "metadata": {},
   "outputs": [],
   "source": [
    "def f_pr_auc(probas_pred, y_true):\n",
    "    labels=y_true.get_label()\n",
    "    p, r, _ = precision_recall_curve(labels, probas_pred)\n",
    "    score=auc(r,p) \n",
    "    return \"pr_auc\", score, True\n",
    "\n",
    "def modeling(train_x, train_y, lambda_l2=0, min_data_in_leaf=20,\n",
    "            max_bin=255, feature_fraction=1, bagging_fraction=1,\n",
    "            num_leaves=10, max_depth=-1, lr=0.1):\n",
    "    #-------------------------------------------------------------------------------------\n",
    "    models     = []\n",
    "    recalls    = []\n",
    "    precisions = []\n",
    "    auc_scores   = []\n",
    "    threshold = 0.5\n",
    "    n_splits = 5\n",
    "    # 파라미터 설정\n",
    "    #max_depth=6\n",
    "    params =      {\n",
    "                    'boosting_type' : 'gbdt',\n",
    "                    'objective'     : 'binary',\n",
    "                    'metric'        : 'auc',\n",
    "                    'seed': 1015,\n",
    "                    'n_estimators':10000,\n",
    "                    'lambda_l2': lambda_l2,\n",
    "                    'min_data_in_leaf':min_data_in_leaf,\n",
    "                    'max_bin':max_bin,\n",
    "                    'feature_fraction':feature_fraction,\n",
    "                    'bagging_fraction':bagging_fraction,\n",
    "                    'max_depth':max_depth,\n",
    "                    'num_leaves':num_leaves,\n",
    "                    #'num_iterations':1000,\n",
    "                    'learning_rate':lr,\n",
    "                    'force_col_wise':'true',\n",
    "                    #'device':'gpu'\n",
    "                    }\n",
    "    #-------------------------------------------------------------------------------------\n",
    "    # 5 Kfold cross validation\n",
    "    k_fold = KFold(n_splits=n_splits, shuffle=True, random_state=420)\n",
    "    for train_idx, val_idx in k_fold.split(train_x):\n",
    "\n",
    "        # split train, validation set\n",
    "        X = train_x.loc[train_idx,:]\n",
    "        y = train_y.loc[train_idx,:]\n",
    "        valid_x = train_x.loc[val_idx,:]\n",
    "        valid_y = train_y.loc[val_idx,:]\n",
    "\n",
    "        d_train= lgb.Dataset(X, y)\n",
    "        d_val  = lgb.Dataset(valid_x, valid_y)\n",
    "        \n",
    "        #run traning\n",
    "        model = lgb.train(\n",
    "                            params,\n",
    "                            train_set       = d_train,\n",
    "                            num_boost_round = 1000,\n",
    "                            valid_sets      = d_val,\n",
    "                            feval           = f_pr_auc,\n",
    "                            verbose_eval    = 30, \n",
    "                            early_stopping_rounds = 10,\n",
    "                            #force_col_wise='true'\n",
    "                           )\n",
    "        \n",
    "        # cal valid prediction\n",
    "        valid_prob = model.predict(valid_x)\n",
    "        valid_pred = np.where(valid_prob > threshold, 1, 0)\n",
    "\n",
    "        # cal scores\n",
    "        recall    = recall_score(    valid_y, valid_pred)\n",
    "        precision = precision_score( valid_y, valid_pred)\n",
    "        auc_score = roc_auc_score(   valid_y, valid_prob)\n",
    "\n",
    "        # append scores\n",
    "        models.append(model)\n",
    "        recalls.append(recall)\n",
    "        precisions.append(precision)\n",
    "        auc_scores.append(auc_score)\n",
    "\n",
    "        print('==========================================================')\n",
    "    return models, auc_scores"
   ]
  },
  {
   "cell_type": "code",
   "execution_count": 51,
   "metadata": {
    "scrolled": true
   },
   "outputs": [
    {
     "name": "stdout",
     "output_type": "stream",
     "text": [
      "[LightGBM] [Warning] Find whitespaces in feature_names, replace with underlines\n",
      "[LightGBM] [Info] Number of positive: 4005, number of negative: 7995\n",
      "[LightGBM] [Info] Total Bins 33689\n",
      "[LightGBM] [Info] Number of data points in the train set: 12000, number of used features: 468\n",
      "[LightGBM] [Warning] Find whitespaces in feature_names, replace with underlines\n",
      "[LightGBM] [Info] [binary:BoostFromScore]: pavg=0.333750 -> initscore=-0.691273\n",
      "[LightGBM] [Info] Start training from score -0.691273\n",
      "Training until validation scores don't improve for 10 rounds\n",
      "[30]\tvalid_0's auc: 0.807351\tvalid_0's pr_auc: 0.722194\n",
      "Early stopping, best iteration is:\n",
      "[41]\tvalid_0's auc: 0.809644\tvalid_0's pr_auc: 0.724879\n",
      "==========================================================\n",
      "[LightGBM] [Warning] Find whitespaces in feature_names, replace with underlines\n",
      "[LightGBM] [Info] Number of positive: 3987, number of negative: 8013\n",
      "[LightGBM] [Info] Total Bins 33944\n",
      "[LightGBM] [Info] Number of data points in the train set: 12000, number of used features: 468\n",
      "[LightGBM] [Warning] Find whitespaces in feature_names, replace with underlines\n",
      "[LightGBM] [Info] [binary:BoostFromScore]: pavg=0.332250 -> initscore=-0.698026\n",
      "[LightGBM] [Info] Start training from score -0.698026\n",
      "Training until validation scores don't improve for 10 rounds\n",
      "Early stopping, best iteration is:\n",
      "[17]\tvalid_0's auc: 0.803542\tvalid_0's pr_auc: 0.73066\n",
      "==========================================================\n",
      "[LightGBM] [Warning] Find whitespaces in feature_names, replace with underlines\n",
      "[LightGBM] [Info] Number of positive: 4008, number of negative: 7992\n",
      "[LightGBM] [Info] Total Bins 34011\n",
      "[LightGBM] [Info] Number of data points in the train set: 12000, number of used features: 468\n",
      "[LightGBM] [Warning] Find whitespaces in feature_names, replace with underlines\n",
      "[LightGBM] [Info] [binary:BoostFromScore]: pavg=0.334000 -> initscore=-0.690149\n",
      "[LightGBM] [Info] Start training from score -0.690149\n",
      "Training until validation scores don't improve for 10 rounds\n",
      "[30]\tvalid_0's auc: 0.834435\tvalid_0's pr_auc: 0.755468\n",
      "Early stopping, best iteration is:\n",
      "[24]\tvalid_0's auc: 0.833607\tvalid_0's pr_auc: 0.7569\n",
      "==========================================================\n",
      "[LightGBM] [Warning] Find whitespaces in feature_names, replace with underlines\n",
      "[LightGBM] [Info] Number of positive: 4002, number of negative: 7998\n",
      "[LightGBM] [Info] Total Bins 33935\n",
      "[LightGBM] [Info] Number of data points in the train set: 12000, number of used features: 467\n",
      "[LightGBM] [Warning] Find whitespaces in feature_names, replace with underlines\n",
      "[LightGBM] [Info] [binary:BoostFromScore]: pavg=0.333500 -> initscore=-0.692397\n",
      "[LightGBM] [Info] Start training from score -0.692397\n",
      "Training until validation scores don't improve for 10 rounds\n",
      "[30]\tvalid_0's auc: 0.817976\tvalid_0's pr_auc: 0.751147\n",
      "Early stopping, best iteration is:\n",
      "[35]\tvalid_0's auc: 0.818907\tvalid_0's pr_auc: 0.752166\n",
      "==========================================================\n",
      "[LightGBM] [Warning] Find whitespaces in feature_names, replace with underlines\n",
      "[LightGBM] [Info] Number of positive: 3998, number of negative: 8002\n",
      "[LightGBM] [Info] Total Bins 33727\n",
      "[LightGBM] [Info] Number of data points in the train set: 12000, number of used features: 467\n",
      "[LightGBM] [Warning] Find whitespaces in feature_names, replace with underlines\n",
      "[LightGBM] [Info] [binary:BoostFromScore]: pavg=0.333167 -> initscore=-0.693897\n",
      "[LightGBM] [Info] Start training from score -0.693897\n",
      "Training until validation scores don't improve for 10 rounds\n",
      "[30]\tvalid_0's auc: 0.830148\tvalid_0's pr_auc: 0.745247\n",
      "Early stopping, best iteration is:\n",
      "[28]\tvalid_0's auc: 0.830744\tvalid_0's pr_auc: 0.746638\n",
      "==========================================================\n"
     ]
    }
   ],
   "source": [
    "#models1, auc_scores1 = modeling(train_x1, train_y1)\n",
    "#models2, auc_scores2 = modeling(train_x2, train_y2)\n",
    "#models, auc_scores = modeling(train_x, train_y, max_bin=500, num_leaves=50, max_depth=15, lambda_l2=0.001)\n",
    "models, auc_scores = modeling(train_x, train_y, max_bin=1100, num_leaves=70, max_depth=21, lambda_l2=0.001)\n",
    "#models, auc_scores = modeling(train_x, train_y, max_bin=1800, num_leaves=40, max_depth=20, lambda_l2=0.001)"
   ]
  },
  {
   "cell_type": "code",
   "execution_count": 52,
   "metadata": {
    "scrolled": false
   },
   "outputs": [
    {
     "name": "stdout",
     "output_type": "stream",
     "text": [
      "0.8192888346298371\n"
     ]
    }
   ],
   "source": [
    "print(np.mean(auc_scores))"
   ]
  },
  {
   "cell_type": "code",
   "execution_count": 141,
   "metadata": {},
   "outputs": [],
   "source": [
    "#print(np.mean(auc_scores2))"
   ]
  },
  {
   "cell_type": "code",
   "execution_count": 55,
   "metadata": {},
   "outputs": [],
   "source": [
    "test_ids = np.unique(test_err['user_id'])"
   ]
  },
  {
   "cell_type": "code",
   "execution_count": 56,
   "metadata": {},
   "outputs": [
    {
     "data": {
      "text/plain": [
       "\"\\nresult_dict = {}\\nresult_dict['model'] = models\\nresult_dict['train_data'] = train_data\\nresult_dict['param'] = {}\\nresult_dict['param']['max_bin'] = 1100\\nresult_dict['param']['num_leaves'] = 70\\nresult_dict['param']['max_depth'] = 21\\nresult_dict['param']['lambda_l2'] = 0.001\\n\\nwith open(default_path+f'/result/auc_0.8303.pkl', 'wb') as f:\\n    pickle.dump(result_dict, f)\\n\""
      ]
     },
     "execution_count": 56,
     "metadata": {},
     "output_type": "execute_result"
    }
   ],
   "source": [
    "\"\"\"\n",
    "result_dict = {}\n",
    "result_dict['model'] = models\n",
    "result_dict['train_data'] = train_data\n",
    "result_dict['param'] = {}\n",
    "result_dict['param']['max_bin'] = 1100\n",
    "result_dict['param']['num_leaves'] = 70\n",
    "result_dict['param']['max_depth'] = 21\n",
    "result_dict['param']['lambda_l2'] = 0.001\n",
    "\n",
    "with open(default_path+f'/result/auc_0.8303.pkl', 'wb') as f:\n",
    "    pickle.dump(result_dict, f)\n",
    "\"\"\""
   ]
  },
  {
   "cell_type": "code",
   "execution_count": 57,
   "metadata": {},
   "outputs": [],
   "source": [
    "test_errtype_pivot = make_pivot_table(test_err, 'errtype')\n",
    "test_model_pivot = make_pivot_table(test_err, 'model_nm', True)\n",
    "test_fwver_pivot = make_pivot_table(test_err, 'fwver', True)\n",
    "\n",
    "test_md_pivot = make_pivot_table(test_err, 'md')\n",
    "test_all_error = test_err.groupby(['user_id']).size().to_frame('all_error').reset_index()\n"
   ]
  },
  {
   "cell_type": "code",
   "execution_count": 58,
   "metadata": {},
   "outputs": [],
   "source": [
    "# errcode 만들기\n",
    "test_errcode = test_err[test_err['errcode'].isin(ok_err_codes)]\n",
    "test_errcode_pivot = make_pivot_table(test_errcode, 'errcode', True)"
   ]
  },
  {
   "cell_type": "code",
   "execution_count": null,
   "metadata": {},
   "outputs": [],
   "source": []
  },
  {
   "cell_type": "code",
   "execution_count": 59,
   "metadata": {},
   "outputs": [],
   "source": [
    "test_data = pd.DataFrame({'user_id': test_ids})\n",
    "test_data = pd.merge(test_data, test_errtype_pivot, on='user_id', how='left')\n",
    "test_data = pd.merge(test_data, test_all_error, on='user_id', how='left')\n",
    "test_data = pd.merge(test_data, test_change_df, on='user_id', how='left')\n",
    "test_data = pd.merge(test_data, test_md_pivot, on='user_id', how='left')\n",
    "test_data = pd.merge(test_data, test_fwver_pivot, on='user_id', how='left')\n",
    "\n",
    "#test_data = pd.merge(test_data, test_model_pivot, on='user_id', how='left')\n",
    "test_data = pd.merge(test_data, test_errcode_pivot, on='user_id', how='left')\n"
   ]
  },
  {
   "cell_type": "code",
   "execution_count": null,
   "metadata": {},
   "outputs": [],
   "source": []
  },
  {
   "cell_type": "code",
   "execution_count": 60,
   "metadata": {},
   "outputs": [],
   "source": [
    "\n",
    "change_df_cols = ['upgrade','downgrade','change_model','change_version','change_all']\n",
    "for col in change_df_cols:\n",
    "    test_data[col] = test_data[col].fillna(0)\n"
   ]
  },
  {
   "cell_type": "code",
   "execution_count": 61,
   "metadata": {},
   "outputs": [
    {
     "name": "stderr",
     "output_type": "stream",
     "text": [
      "100%|██████████| 14998/14998 [03:47<00:00, 65.97it/s]\n"
     ]
    }
   ],
   "source": [
    "test_qua_pivot = processing_quality_data(test_err, test_qua)\n"
   ]
  },
  {
   "cell_type": "code",
   "execution_count": 63,
   "metadata": {},
   "outputs": [],
   "source": [
    "# err 시간별, 주간별 만들기\n",
    "#test_hour_err = processing_err_unit_ratio(test_err, key_col='hour')\n",
    "#test_weeknum_err = processing_err_unit_ratio(test_err, key_col='weeknum')"
   ]
  },
  {
   "cell_type": "code",
   "execution_count": 64,
   "metadata": {},
   "outputs": [],
   "source": [
    "test_data = pd.merge(test_data, test_hour_err, on='user_id', how='left')\n",
    "test_data = pd.merge(test_data, test_weeknum_err, on='user_id', how='left')"
   ]
  },
  {
   "cell_type": "code",
   "execution_count": 65,
   "metadata": {},
   "outputs": [],
   "source": [
    "test_data = pd.merge(test_data, test_qua_pivot, on='user_id', how='left').fillna(0)"
   ]
  },
  {
   "cell_type": "code",
   "execution_count": 66,
   "metadata": {},
   "outputs": [],
   "source": [
    "test_x = test_data.loc[:,~test_data.columns.isin(['y','user_id'])]\n",
    "test_x = processing_col(test_x, train_x)\n",
    "test_x = test_x.loc[:,train_x.columns]"
   ]
  },
  {
   "cell_type": "code",
   "execution_count": 67,
   "metadata": {},
   "outputs": [],
   "source": [
    "del test_errtype_pivot, test_md_pivot, test_all_error, test_model_pivot,test_errcode_pivot, test_qua_pivot, test_hour_err, test_weeknum_err"
   ]
  },
  {
   "cell_type": "code",
   "execution_count": 1,
   "metadata": {},
   "outputs": [
    {
     "ename": "NameError",
     "evalue": "name 'models' is not defined",
     "output_type": "error",
     "traceback": [
      "\u001b[0;31m---------------------------------------------------------------------------\u001b[0m",
      "\u001b[0;31mNameError\u001b[0m                                 Traceback (most recent call last)",
      "\u001b[0;32m<ipython-input-1-1c451bf89289>\u001b[0m in \u001b[0;36m<module>\u001b[0;34m\u001b[0m\n\u001b[1;32m      1\u001b[0m \u001b[0mpred_y_list\u001b[0m \u001b[0;34m=\u001b[0m \u001b[0;34m[\u001b[0m\u001b[0;34m]\u001b[0m\u001b[0;34m\u001b[0m\u001b[0;34m\u001b[0m\u001b[0m\n\u001b[0;32m----> 2\u001b[0;31m \u001b[0;32mfor\u001b[0m \u001b[0mmodel\u001b[0m \u001b[0;32min\u001b[0m \u001b[0mmodels\u001b[0m\u001b[0;34m:\u001b[0m\u001b[0;34m\u001b[0m\u001b[0;34m\u001b[0m\u001b[0m\n\u001b[0m\u001b[1;32m      3\u001b[0m     \u001b[0mpred_y\u001b[0m \u001b[0;34m=\u001b[0m \u001b[0mmodel\u001b[0m\u001b[0;34m.\u001b[0m\u001b[0mpredict\u001b[0m\u001b[0;34m(\u001b[0m\u001b[0mtest_x\u001b[0m\u001b[0;34m)\u001b[0m\u001b[0;34m\u001b[0m\u001b[0;34m\u001b[0m\u001b[0m\n\u001b[1;32m      4\u001b[0m     \u001b[0mpred_y_list\u001b[0m\u001b[0;34m.\u001b[0m\u001b[0mappend\u001b[0m\u001b[0;34m(\u001b[0m\u001b[0mpred_y\u001b[0m\u001b[0;34m.\u001b[0m\u001b[0mreshape\u001b[0m\u001b[0;34m(\u001b[0m\u001b[0;34m-\u001b[0m\u001b[0;36m1\u001b[0m\u001b[0;34m,\u001b[0m\u001b[0;36m1\u001b[0m\u001b[0;34m)\u001b[0m\u001b[0;34m)\u001b[0m\u001b[0;34m\u001b[0m\u001b[0;34m\u001b[0m\u001b[0m\n\u001b[1;32m      5\u001b[0m \u001b[0;34m\u001b[0m\u001b[0m\n",
      "\u001b[0;31mNameError\u001b[0m: name 'models' is not defined"
     ]
    }
   ],
   "source": [
    "pred_y_list = []\n",
    "for model in models:\n",
    "    pred_y = model.predict(test_x)\n",
    "    pred_y_list.append(pred_y.reshape(-1,1))\n",
    "    \n",
    "pred_ensemble = np.mean(pred_y_list, axis = 0)\n"
   ]
  },
  {
   "cell_type": "code",
   "execution_count": null,
   "metadata": {},
   "outputs": [],
   "source": []
  },
  {
   "cell_type": "code",
   "execution_count": 62,
   "metadata": {},
   "outputs": [
    {
     "data": {
      "text/plain": [
       "<AxesSubplot:ylabel='Density'>"
      ]
     },
     "execution_count": 62,
     "metadata": {},
     "output_type": "execute_result"
    },
    {
     "data": {
      "image/png": "[encoded data removed]",
      "text/plain": [
       "<Figure size 1080x648 with 1 Axes>"
      ]
     },
     "metadata": {
      "needs_background": "light"
     },
     "output_type": "display_data"
    }
   ],
   "source": [
    "plt.figure(figsize=(15,9))\n",
    "sns.distplot(pred_ensemble)"
   ]
  },
  {
   "cell_type": "code",
   "execution_count": 48,
   "metadata": {},
   "outputs": [],
   "source": [
    "sample_sub = pd.read_csv(data_path+'/sample_submission.csv')\n",
    "sample_sub = sample_sub.drop('problem', axis=1)"
   ]
  },
  {
   "cell_type": "code",
   "execution_count": 49,
   "metadata": {},
   "outputs": [],
   "source": [
    "pred_y = pd.DataFrame({'user_id':test_data['user_id'], 'problem':pred_ensemble[:,0]})"
   ]
  },
  {
   "cell_type": "code",
   "execution_count": 50,
   "metadata": {},
   "outputs": [],
   "source": [
    "sample_sub = pd.merge(sample_sub, pred_y, on='user_id', how='left')\n",
    "sample_sub['problem'] = sample_sub['problem'].fillna(0)"
   ]
  },
  {
   "cell_type": "code",
   "execution_count": 66,
   "metadata": {},
   "outputs": [],
   "source": [
    "sample_sub.to_csv(\"result_new8.csv\", index = False)"
   ]
  },
  {
   "cell_type": "code",
   "execution_count": null,
   "metadata": {},
   "outputs": [],
   "source": []
  }
 ],
 "metadata": {
  "kernelspec": {
   "display_name": "Python 3",
   "language": "python",
   "name": "python3"
  },
  "language_info": {
   "codemirror_mode": {
    "name": "ipython",
    "version": 3
   },
   "file_extension": ".py",
   "mimetype": "text/x-python",
   "name": "python",
   "nbconvert_exporter": "python",
   "pygments_lexer": "ipython3",
   "version": "3.7.7"
  }
 },
 "nbformat": 4,
 "nbformat_minor": 4
}
