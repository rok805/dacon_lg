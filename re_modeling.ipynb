{
 "cells": [
  {
   "cell_type": "code",
   "execution_count": 1,
   "metadata": {},
   "outputs": [],
   "source": [
    "import pandas as pd\n",
    "import numpy as np\n",
    "import os\n",
    "import matplotlib.pyplot as plt\n",
    "import seaborn as sns\n",
    "import datetime\n",
    "import matplotlib.font_manager as fm\n",
    "import matplotlib as mpl\n",
    "from matplotlib import rc\n",
    "from scipy.stats import mannwhitneyu\n",
    "import datetime\n",
    "import json\n",
    "import pickle\n",
    "from tqdm import tqdm\n",
    "import warnings\n",
    "import lightgbm as lgb\n",
    "import math\n",
    "import random\n",
    "import re\n",
    "warnings.filterwarnings(action='ignore')\n",
    "\n",
    "from sklearn.metrics import *\n",
    "from sklearn.model_selection import KFold\n",
    "\n",
    "def make_datetime(x):\n",
    "    # string 타입의 Time column을 datetime 타입으로 변경\n",
    "    x     = str(x)\n",
    "    year  = int(x[:4])\n",
    "    month = int(x[4:6])\n",
    "    day   = int(x[6:8])\n",
    "    hour  = int(x[8:10])\n",
    "    #mim  = int(x[10:12])\n",
    "    #sec  = int(x[12:])\n",
    "    return dt.datetime(year, month, day, hour)\n",
    "\n",
    "def string2num(x):\n",
    "    # (,)( )과 같은 불필요한 데이터 정제\n",
    "    x = re.sub(r\"[^0-9]+\", '', str(x))\n",
    "    if x =='':\n",
    "        return 0\n",
    "    else:\n",
    "        return int(x)\n",
    "\n",
    "def split_time(x):\n",
    "    x = str(x)\n",
    "    year = x[:4]\n",
    "    month = x[4:6]\n",
    "    day = x[6:8]\n",
    "    hour = x[8:10]\n",
    "    minute = x[10:12]\n",
    "    second = x[12:14]\n",
    "    return year, month, day, hour, minute, second\n",
    "\n",
    "def make_time_cols(df_):\n",
    "    years, months, days, hours, minutes, seconds, dates = [], [], [], [], [], [], []\n",
    "\n",
    "    for i in range(len(df_)):\n",
    "        x = df_.loc[i,'time']\n",
    "        year, month, day, hour, minute, second = split_time(x)\n",
    "        years.append(int(year))\n",
    "        months.append(int(month))\n",
    "        days.append(int(day))\n",
    "        hours.append(int(hour))\n",
    "        minutes.append(int(minute))\n",
    "        seconds.append(int(second))\n",
    "        dates.append(datetime.datetime.strptime(str(x), \"%Y%m%d%H%M%S\"))\n",
    "\n",
    "    df_['year'] = years\n",
    "    df_['month'] = months\n",
    "    df_['day'] = days\n",
    "    df_['hour']=hours\n",
    "    df_['minute'] = minutes\n",
    "    df_['second']= seconds\n",
    "    df_['date'] = dates\n",
    "    return df_\n",
    "\n",
    "\n",
    "def add_time_cols(df_):\n",
    "    df_ = make_time_cols(df_)\n",
    "    df_['weeknum'] = df_['date'].apply(lambda x: x.weekday())\n",
    "    df_['weekend'] = df_['weeknum'].apply(lambda x: 1 if x >=5 else 0)\n",
    "    df_['md'] = df_['month'].apply(lambda x: str(x).zfill(2)) + df_['day'].apply(lambda x: str(x).zfill(2))\n",
    "    return df_"
   ]
  },
  {
   "cell_type": "code",
   "execution_count": 2,
   "metadata": {},
   "outputs": [],
   "source": [
    "default_path = os.getcwd()\n",
    "data_path = os.path.join(default_path,'data')"
   ]
  },
  {
   "cell_type": "code",
   "execution_count": 3,
   "metadata": {},
   "outputs": [],
   "source": [
    "def processing_train_test(data_path, option='train'):\n",
    "    if option == 'train':\n",
    "        err_name = 'train_err_data'\n",
    "        qua_name = 'train_quality_data'\n",
    "        prob_name = 'train_problem_data'\n",
    "    elif option == 'test':\n",
    "        err_name = 'test_err_data'\n",
    "        qua_name = 'test_quality_data'\n",
    "    \n",
    "    df_err = pd.read_csv(data_path+f'/{err_name}.csv')\n",
    "    df_err['errcode'] = df_err['errcode'].astype('str')\n",
    "    df_qua = pd.read_csv(data_path+f'/{qua_name}.csv')\n",
    "    \n",
    "    for i in range(13):\n",
    "        df_qua[f'quality_{i}'] = df_qua[f'quality_{i}'].apply(lambda x: re.sub(r\"[^0-9]+\", '', str(x)) if type(x) == str else x)\n",
    "        df_qua[f'quality_{i}'] = df_qua[f'quality_{i}'].astype(float)\n",
    "    \n",
    "    df_err['errcode'] = df_err['errcode'].astype(str)\n",
    "    df_err['fwver'] = df_err['fwver'].astype(str)\n",
    "    df_err['model_nm'] = df_err['model_nm'].astype(str)\n",
    "    \n",
    "    df_qua['fwver'] = df_qua['fwver'].astype(str)\n",
    "    \n",
    "    \n",
    "    files = [f'{err_name}_c', f'{qua_name}_c']\n",
    "    temp_dfs = [df_err, df_qua]\n",
    "    \n",
    "    if option == 'train':\n",
    "        files.append(f'{prob_name}_c')\n",
    "        \n",
    "        df_prob = pd.read_csv(data_path+f'/{prob_name}.csv')\n",
    "        temp_dfs.append(df_prob)\n",
    "    \n",
    "    for i in tqdm(range(len(files))):\n",
    "        file = files[i]\n",
    "        if not os.path.isfile(f'{data_path}/{file}.csv'):\n",
    "            temp_dfs[i] = add_time_cols(temp_dfs[i])\n",
    "            temp_dfs[i].to_csv(f'{data_path}/{file}.csv', index=False)\n",
    "            temp_dfs[i] = pd.read_csv(f'{data_path}/{file}.csv', parse_dates=['date'])\n",
    "        else:\n",
    "            pass"
   ]
  },
  {
   "cell_type": "code",
   "execution_count": 4,
   "metadata": {},
   "outputs": [
    {
     "name": "stderr",
     "output_type": "stream",
     "text": [
      "100%|██████████| 3/3 [00:00<00:00, 49344.75it/s]\n",
      "100%|██████████| 2/2 [00:00<00:00, 6457.74it/s]\n"
     ]
    }
   ],
   "source": [
    "processing_train_test(data_path, 'train')\n",
    "processing_train_test(data_path, 'test')"
   ]
  },
  {
   "cell_type": "code",
   "execution_count": 5,
   "metadata": {},
   "outputs": [],
   "source": [
    "def make_change_dict(err_df, data_path, option = 'train'):\n",
    "    change_dict = {}\n",
    "    change_dict['id'] = []\n",
    "    change_dict['upgrade'] = []\n",
    "    change_dict['downgrade'] = []\n",
    "    change_dict['change_model'] = []\n",
    "    change_dict['change_version'] = []\n",
    "    change_dict['change_all'] = []\n",
    "    all_ids = np.unique(err_df['user_id'])\n",
    "    \n",
    "    if not os.path.isfile(f\"{data_path}/{option}_upgrade_dict.json\"):\n",
    "        for id_ in tqdm(all_ids):\n",
    "            temp_df = err_df[err_df['user_id']==id_].sort_values('date').reset_index(drop=True)\n",
    "\n",
    "            unique_model = np.unique(temp_df['model_nm'])\n",
    "            unique_version = np.unique(temp_df['fwver'])\n",
    "\n",
    "            if len(unique_model) != 1 or len(unique_version)!=1:\n",
    "\n",
    "                past_version = temp_df.loc[0,'fwver']\n",
    "                past_model = temp_df.loc[0,'model_nm']\n",
    "                upgrade = 0\n",
    "                downgrade = 0\n",
    "                change_model = 0\n",
    "                change_version = 0\n",
    "                change_all = 0\n",
    "\n",
    "                for i in range(1,len(temp_df)):\n",
    "                    cur_version = temp_df.loc[i,'fwver']\n",
    "                    cur_model = temp_df.loc[i,'model_nm']\n",
    "                    sw = 0\n",
    "                    if past_model != cur_model:\n",
    "                        change_model +=1\n",
    "                        change_all +=1\n",
    "                        sw = 1\n",
    "                        \n",
    "                    if past_version != cur_version:\n",
    "                        change_version +=1\n",
    "                        \n",
    "                        past_version_f = past_version.split('.')\n",
    "                        past_version_f = float(past_version_f[0] + '.' + ''.join(past_version_f[1:]))\n",
    "\n",
    "                        cur_version_f = cur_version.split('.')\n",
    "                        cur_version_f = float(cur_version_f[0] + '.' + ''.join(cur_version_f[1:]))\n",
    "                        if past_model != cur_model and past_version_f > cur_version_f:\n",
    "                            downgrade +=1\n",
    "                        elif past_model != cur_model and past_version_f < cur_version_f:\n",
    "                            upgrade +=1\n",
    "                        if sw == 0:\n",
    "                            change_all +=1  \n",
    "                        \n",
    "                    past_version = cur_version\n",
    "                    past_model = cur_model\n",
    "\n",
    "                change_dict['id'].append(id_)\n",
    "                change_dict['upgrade'].append(upgrade)\n",
    "                change_dict['downgrade'].append(downgrade)\n",
    "                change_dict['change_model'].append(change_model)\n",
    "                change_dict['change_version'].append(change_version)\n",
    "                change_dict['change_all'].append(change_all)\n",
    "\n",
    "        change_dict['id'] =list(map(int, change_dict['id']))\n",
    "        with open(f\"{data_path}/{option}_upgrade_dict.json\", \"w\") as f:\n",
    "            json.dump(change_dict, f)\n",
    "    else:\n",
    "        pass"
   ]
  },
  {
   "cell_type": "code",
   "execution_count": 6,
   "metadata": {},
   "outputs": [],
   "source": [
    "train_err = pd.read_csv(data_path+'/train_err_data_c.csv')\n",
    "test_err = pd.read_csv(data_path+'/test_err_data_c.csv')"
   ]
  },
  {
   "cell_type": "code",
   "execution_count": 7,
   "metadata": {},
   "outputs": [],
   "source": [
    "if not os.path.isfile(f\"{data_path}/train_upgrade_dict.json\"):\n",
    "    make_change_dict(train_err, data_path, option = 'train')\n",
    "if not os.path.isfile(f\"{data_path}/test_upgrade_dict.json\"):\n",
    "    make_change_dict(test_err, data_path, option = 'test')"
   ]
  },
  {
   "cell_type": "code",
   "execution_count": 8,
   "metadata": {},
   "outputs": [],
   "source": [
    "with open(f\"{data_path}/train_upgrade_dict.json\", \"r\") as f:\n",
    "    train_change_dict = json.load(f)\n",
    "with open(f\"{data_path}/test_upgrade_dict.json\", \"r\") as f:\n",
    "    test_change_dict = json.load(f)"
   ]
  },
  {
   "cell_type": "code",
   "execution_count": 9,
   "metadata": {},
   "outputs": [],
   "source": [
    "def extract_change_df(change_dict):\n",
    "\n",
    "    change_df = pd.DataFrame({'user_id':change_dict['id'], 'upgrade':change_dict['upgrade'],\n",
    "                         'downgrade':change_dict['downgrade'], 'change_model':change_dict['change_model'],\n",
    "                         'change_version':change_dict['change_version'],\n",
    "                         'change_all':change_dict['change_all']})\n",
    "    return change_df"
   ]
  },
  {
   "cell_type": "code",
   "execution_count": 10,
   "metadata": {},
   "outputs": [],
   "source": [
    "train_change_df = extract_change_df(train_change_dict)\n",
    "test_change_df = extract_change_df(test_change_dict)"
   ]
  },
  {
   "cell_type": "code",
   "execution_count": 11,
   "metadata": {},
   "outputs": [],
   "source": [
    "train_qua = pd.read_csv(data_path+'/train_quality_data_c.csv')\n",
    "test_qua = pd.read_csv(data_path+'/test_quality_data_c.csv')"
   ]
  },
  {
   "cell_type": "code",
   "execution_count": null,
   "metadata": {},
   "outputs": [],
   "source": []
  },
  {
   "cell_type": "markdown",
   "metadata": {},
   "source": [
    "## 모델링"
   ]
  },
  {
   "cell_type": "code",
   "execution_count": 12,
   "metadata": {},
   "outputs": [],
   "source": [
    "def processing_qua(qua_df):\n",
    "    quality_cols = [f'quality_{i}' for i in range(13)]\n",
    "    temp_size_qua = qua_df.groupby(['user_id','date']).sum().reset_index()\n",
    "    temp_size_qua = temp_size_qua.groupby(['user_id']).size().to_frame('quality_num').reset_index()\n",
    "    temp_size_qua['quality_num'] = temp_size_qua['quality_num'].apply(lambda x: 1 if x != 0 else 0)\n",
    "    \n",
    "    temp_mean_qua = qua_df.copy()\n",
    "    temp_mean_qua = temp_mean_qua.fillna(0)\n",
    "    temp_mean_qua = temp_mean_qua.groupby(['user_id']).mean().reset_index()[['user_id']+quality_cols]\n",
    "    f_qua_df = pd.merge(temp_size_qua, temp_mean_qua, on='user_id', how='left')\n",
    "    return f_qua_df\n",
    "\n",
    "def make_pivot_table(err_df, col, appear_option = False, test_err_df=None, test_option=False):\n",
    "    err_pivot = err_df.groupby(['user_id',col]).size().to_frame('size').reset_index()\n",
    "    err_pivot= pd.pivot_table(err_pivot, index='user_id', columns=[col], values='size').add_prefix(f'col_{col}_')\n",
    "    err_pivot.index.name = None\n",
    "    err_pivot.columns.name = None\n",
    "    err_pivot = err_pivot.fillna(0)\n",
    "    err_pivot['user_id'] = err_pivot.index.tolist()\n",
    "    err_pivot = err_pivot.reset_index(drop=True)\n",
    "    if test_option == True:\n",
    "        test_unique_values = np.unique(test_err_df[col])\n",
    "        need_cols = np.setdiff1d(test_unique_values, np.unique(err_df[col]))\n",
    "        for t_col in need_cols:\n",
    "            err_pivot[f'col_{col}_{t_col}'] = 0\n",
    "            \n",
    "    if appear_option == True:\n",
    "        for t_col in err_pivot:\n",
    "            err_pivot[t_col] = err_pivot[t_col].apply(lambda x: 1 if x != 0 else 0)\n",
    "        \n",
    "    return err_pivot"
   ]
  },
  {
   "cell_type": "code",
   "execution_count": 13,
   "metadata": {},
   "outputs": [],
   "source": [
    "train_ids = np.unique(train_err['user_id'])"
   ]
  },
  {
   "cell_type": "code",
   "execution_count": 57,
   "metadata": {},
   "outputs": [],
   "source": [
    "# 모델 추출\n",
    "def make_model_df(train_err, col):\n",
    "    temp_df = train_err.groupby([col,'user_id']).sum().reset_index()\n",
    "    temp_df = temp_df.groupby([col,'user_id']).size().to_frame('size').reset_index()\n",
    "    model_pivot = pd.pivot_table(temp_df, index='user_id', columns=col, values='size').fillna(0)\n",
    "    model_pivot.index.name = None\n",
    "    model_pivot.columns.name = None\n",
    "    model_pivot['user_id'] = model_pivot.index.tolist()\n",
    "    model_pivot = model_pivot.reset_index(drop=True)\n",
    "    return model_pivot\n",
    "#model_pivot = make_model_df(train_err, 'model_nm')"
   ]
  },
  {
   "cell_type": "code",
   "execution_count": 58,
   "metadata": {},
   "outputs": [],
   "source": [
    "train_errtype_pivot = make_pivot_table(train_err, 'errtype')\n",
    "train_errcode_pivot = make_pivot_table(train_err, 'errcode')\n",
    "train_md_pivot = make_pivot_table(train_err, 'md', False, test_err, True)\n",
    "train_all_error = train_err.groupby(['user_id']).size().to_frame('all_error').reset_index()\n",
    "train_model_pivot = make_pivot_table(train_err, 'model_nm', True)\n",
    "#train_fwver_pivot = make_pivot_table(train_err, 'fwver', True, test_err, True)"
   ]
  },
  {
   "cell_type": "code",
   "execution_count": null,
   "metadata": {},
   "outputs": [],
   "source": []
  },
  {
   "cell_type": "code",
   "execution_count": 59,
   "metadata": {},
   "outputs": [],
   "source": [
    "train_ids = np.unique(train_err['user_id'])\n",
    "train_data = pd.DataFrame({'user_id': train_ids})\n",
    "train_data = pd.merge(train_data, train_errtype_pivot, on='user_id', how='left')\n",
    "#train_data = pd.merge(train_data, train_errcode_pivot, on='user_id', how='left')\n",
    "train_data = pd.merge(train_data, train_all_error, on='user_id', how='left')\n",
    "train_data = pd.merge(train_data, train_change_df, on='user_id', how='left')\n",
    "train_data = pd.merge(train_data, train_md_pivot, on='user_id', how='left')\n",
    "#train_data = pd.merge(train_data, train_fwver_pivot, on='user_id', how='left')\n",
    "\n",
    "train_data = pd.merge(train_data, train_model_pivot, on='user_id', how='left')\n",
    "#train_data = pd.merge(train_data, model_pivot, on='user_id', how='left')"
   ]
  },
  {
   "cell_type": "code",
   "execution_count": 60,
   "metadata": {},
   "outputs": [],
   "source": [
    "change_df_cols = ['upgrade','downgrade','change_model','change_version','change_all']\n",
    "for col in change_df_cols:\n",
    "    train_data[col] = train_data[col].fillna(0)"
   ]
  },
  {
   "cell_type": "code",
   "execution_count": 61,
   "metadata": {},
   "outputs": [],
   "source": [
    "# qua 합치기\n",
    "quality_cols = [f'quality_{i}' for i in range(13)]\n",
    "train_qua_pivot = processing_qua(train_qua)\n",
    "train_data = pd.merge(train_data, train_qua_pivot, on='user_id', how='left')\n",
    "for col in quality_cols:\n",
    "    train_data[col] = train_data[col].fillna(0)"
   ]
  },
  {
   "cell_type": "code",
   "execution_count": 62,
   "metadata": {},
   "outputs": [],
   "source": [
    "train_prob = pd.read_csv(data_path+'/train_problem_data_c.csv', parse_dates=['date'])\n",
    "prob_user_ids = np.unique(train_prob['user_id'])"
   ]
  },
  {
   "cell_type": "code",
   "execution_count": 63,
   "metadata": {},
   "outputs": [],
   "source": [
    "train_data['y'] = train_data['user_id'].apply(lambda x: 1 if x in prob_user_ids else 0)"
   ]
  },
  {
   "cell_type": "code",
   "execution_count": 64,
   "metadata": {},
   "outputs": [],
   "source": [
    "train_x = train_data.loc[:,~train_data.columns.isin(['y','user_id'])]\n",
    "x_columns = train_x.columns\n",
    "train_y = train_data[['y']]"
   ]
  },
  {
   "cell_type": "code",
   "execution_count": 65,
   "metadata": {},
   "outputs": [
    {
     "data": {
      "text/html": [
       "<div>\n",
       "<style scoped>\n",
       "    .dataframe tbody tr th:only-of-type {\n",
       "        vertical-align: middle;\n",
       "    }\n",
       "\n",
       "    .dataframe tbody tr th {\n",
       "        vertical-align: top;\n",
       "    }\n",
       "\n",
       "    .dataframe thead th {\n",
       "        text-align: right;\n",
       "    }\n",
       "</style>\n",
       "<table border=\"1\" class=\"dataframe\">\n",
       "  <thead>\n",
       "    <tr style=\"text-align: right;\">\n",
       "      <th></th>\n",
       "      <th>user_id</th>\n",
       "      <th>col_errtype_1</th>\n",
       "      <th>col_errtype_2</th>\n",
       "      <th>col_errtype_3</th>\n",
       "      <th>col_errtype_4</th>\n",
       "      <th>col_errtype_5</th>\n",
       "      <th>col_errtype_6</th>\n",
       "      <th>col_errtype_7</th>\n",
       "      <th>col_errtype_8</th>\n",
       "      <th>col_errtype_9</th>\n",
       "      <th>...</th>\n",
       "      <th>quality_4</th>\n",
       "      <th>quality_5</th>\n",
       "      <th>quality_6</th>\n",
       "      <th>quality_7</th>\n",
       "      <th>quality_8</th>\n",
       "      <th>quality_9</th>\n",
       "      <th>quality_10</th>\n",
       "      <th>quality_11</th>\n",
       "      <th>quality_12</th>\n",
       "      <th>y</th>\n",
       "    </tr>\n",
       "  </thead>\n",
       "  <tbody>\n",
       "    <tr>\n",
       "      <th>0</th>\n",
       "      <td>10000</td>\n",
       "      <td>0.0</td>\n",
       "      <td>0.0</td>\n",
       "      <td>8.0</td>\n",
       "      <td>104.0</td>\n",
       "      <td>0.0</td>\n",
       "      <td>1.0</td>\n",
       "      <td>1.0</td>\n",
       "      <td>0.0</td>\n",
       "      <td>0.0</td>\n",
       "      <td>...</td>\n",
       "      <td>0.0</td>\n",
       "      <td>0.500000</td>\n",
       "      <td>0.000000</td>\n",
       "      <td>0.00</td>\n",
       "      <td>0.0</td>\n",
       "      <td>0.000</td>\n",
       "      <td>6.000</td>\n",
       "      <td>0.000000</td>\n",
       "      <td>0.0</td>\n",
       "      <td>0</td>\n",
       "    </tr>\n",
       "    <tr>\n",
       "      <th>1</th>\n",
       "      <td>10001</td>\n",
       "      <td>0.0</td>\n",
       "      <td>0.0</td>\n",
       "      <td>0.0</td>\n",
       "      <td>0.0</td>\n",
       "      <td>53.0</td>\n",
       "      <td>1.0</td>\n",
       "      <td>1.0</td>\n",
       "      <td>0.0</td>\n",
       "      <td>0.0</td>\n",
       "      <td>...</td>\n",
       "      <td>0.0</td>\n",
       "      <td>0.000000</td>\n",
       "      <td>0.000000</td>\n",
       "      <td>0.00</td>\n",
       "      <td>0.0</td>\n",
       "      <td>0.000</td>\n",
       "      <td>0.000</td>\n",
       "      <td>0.000000</td>\n",
       "      <td>0.0</td>\n",
       "      <td>1</td>\n",
       "    </tr>\n",
       "    <tr>\n",
       "      <th>2</th>\n",
       "      <td>10002</td>\n",
       "      <td>0.0</td>\n",
       "      <td>0.0</td>\n",
       "      <td>2.0</td>\n",
       "      <td>132.0</td>\n",
       "      <td>1.0</td>\n",
       "      <td>2.0</td>\n",
       "      <td>1.0</td>\n",
       "      <td>0.0</td>\n",
       "      <td>0.0</td>\n",
       "      <td>...</td>\n",
       "      <td>0.0</td>\n",
       "      <td>0.343750</td>\n",
       "      <td>0.458333</td>\n",
       "      <td>5.75</td>\n",
       "      <td>0.0</td>\n",
       "      <td>0.125</td>\n",
       "      <td>3.875</td>\n",
       "      <td>-0.020833</td>\n",
       "      <td>0.0</td>\n",
       "      <td>0</td>\n",
       "    </tr>\n",
       "    <tr>\n",
       "      <th>3</th>\n",
       "      <td>10003</td>\n",
       "      <td>0.0</td>\n",
       "      <td>0.0</td>\n",
       "      <td>0.0</td>\n",
       "      <td>0.0</td>\n",
       "      <td>2.0</td>\n",
       "      <td>1.0</td>\n",
       "      <td>1.0</td>\n",
       "      <td>0.0</td>\n",
       "      <td>0.0</td>\n",
       "      <td>...</td>\n",
       "      <td>0.0</td>\n",
       "      <td>0.000000</td>\n",
       "      <td>0.000000</td>\n",
       "      <td>0.00</td>\n",
       "      <td>0.0</td>\n",
       "      <td>0.000</td>\n",
       "      <td>0.000</td>\n",
       "      <td>0.000000</td>\n",
       "      <td>0.0</td>\n",
       "      <td>0</td>\n",
       "    </tr>\n",
       "    <tr>\n",
       "      <th>4</th>\n",
       "      <td>10004</td>\n",
       "      <td>0.0</td>\n",
       "      <td>0.0</td>\n",
       "      <td>0.0</td>\n",
       "      <td>1.0</td>\n",
       "      <td>0.0</td>\n",
       "      <td>3.0</td>\n",
       "      <td>4.0</td>\n",
       "      <td>0.0</td>\n",
       "      <td>0.0</td>\n",
       "      <td>...</td>\n",
       "      <td>0.0</td>\n",
       "      <td>0.250000</td>\n",
       "      <td>3.541667</td>\n",
       "      <td>43.50</td>\n",
       "      <td>0.0</td>\n",
       "      <td>0.000</td>\n",
       "      <td>2.000</td>\n",
       "      <td>-0.083333</td>\n",
       "      <td>0.0</td>\n",
       "      <td>1</td>\n",
       "    </tr>\n",
       "    <tr>\n",
       "      <th>...</th>\n",
       "      <td>...</td>\n",
       "      <td>...</td>\n",
       "      <td>...</td>\n",
       "      <td>...</td>\n",
       "      <td>...</td>\n",
       "      <td>...</td>\n",
       "      <td>...</td>\n",
       "      <td>...</td>\n",
       "      <td>...</td>\n",
       "      <td>...</td>\n",
       "      <td>...</td>\n",
       "      <td>...</td>\n",
       "      <td>...</td>\n",
       "      <td>...</td>\n",
       "      <td>...</td>\n",
       "      <td>...</td>\n",
       "      <td>...</td>\n",
       "      <td>...</td>\n",
       "      <td>...</td>\n",
       "      <td>...</td>\n",
       "      <td>...</td>\n",
       "    </tr>\n",
       "    <tr>\n",
       "      <th>14995</th>\n",
       "      <td>24995</td>\n",
       "      <td>0.0</td>\n",
       "      <td>0.0</td>\n",
       "      <td>0.0</td>\n",
       "      <td>0.0</td>\n",
       "      <td>2.0</td>\n",
       "      <td>5.0</td>\n",
       "      <td>5.0</td>\n",
       "      <td>0.0</td>\n",
       "      <td>0.0</td>\n",
       "      <td>...</td>\n",
       "      <td>0.0</td>\n",
       "      <td>0.625000</td>\n",
       "      <td>-0.416667</td>\n",
       "      <td>0.00</td>\n",
       "      <td>0.0</td>\n",
       "      <td>0.000</td>\n",
       "      <td>2.500</td>\n",
       "      <td>-0.416667</td>\n",
       "      <td>0.0</td>\n",
       "      <td>0</td>\n",
       "    </tr>\n",
       "    <tr>\n",
       "      <th>14996</th>\n",
       "      <td>24996</td>\n",
       "      <td>0.0</td>\n",
       "      <td>0.0</td>\n",
       "      <td>0.0</td>\n",
       "      <td>0.0</td>\n",
       "      <td>0.0</td>\n",
       "      <td>0.0</td>\n",
       "      <td>0.0</td>\n",
       "      <td>0.0</td>\n",
       "      <td>0.0</td>\n",
       "      <td>...</td>\n",
       "      <td>0.0</td>\n",
       "      <td>0.000000</td>\n",
       "      <td>0.000000</td>\n",
       "      <td>0.00</td>\n",
       "      <td>0.0</td>\n",
       "      <td>0.000</td>\n",
       "      <td>0.000</td>\n",
       "      <td>0.000000</td>\n",
       "      <td>0.0</td>\n",
       "      <td>0</td>\n",
       "    </tr>\n",
       "    <tr>\n",
       "      <th>14997</th>\n",
       "      <td>24997</td>\n",
       "      <td>0.0</td>\n",
       "      <td>0.0</td>\n",
       "      <td>0.0</td>\n",
       "      <td>1.0</td>\n",
       "      <td>8.0</td>\n",
       "      <td>1.0</td>\n",
       "      <td>1.0</td>\n",
       "      <td>0.0</td>\n",
       "      <td>0.0</td>\n",
       "      <td>...</td>\n",
       "      <td>0.0</td>\n",
       "      <td>0.958333</td>\n",
       "      <td>-0.166667</td>\n",
       "      <td>0.00</td>\n",
       "      <td>0.0</td>\n",
       "      <td>0.000</td>\n",
       "      <td>9.500</td>\n",
       "      <td>-0.166667</td>\n",
       "      <td>0.0</td>\n",
       "      <td>1</td>\n",
       "    </tr>\n",
       "    <tr>\n",
       "      <th>14998</th>\n",
       "      <td>24998</td>\n",
       "      <td>0.0</td>\n",
       "      <td>0.0</td>\n",
       "      <td>0.0</td>\n",
       "      <td>0.0</td>\n",
       "      <td>0.0</td>\n",
       "      <td>0.0</td>\n",
       "      <td>0.0</td>\n",
       "      <td>0.0</td>\n",
       "      <td>0.0</td>\n",
       "      <td>...</td>\n",
       "      <td>0.0</td>\n",
       "      <td>0.000000</td>\n",
       "      <td>0.000000</td>\n",
       "      <td>0.00</td>\n",
       "      <td>0.0</td>\n",
       "      <td>0.000</td>\n",
       "      <td>0.000</td>\n",
       "      <td>0.000000</td>\n",
       "      <td>0.0</td>\n",
       "      <td>1</td>\n",
       "    </tr>\n",
       "    <tr>\n",
       "      <th>14999</th>\n",
       "      <td>24999</td>\n",
       "      <td>0.0</td>\n",
       "      <td>0.0</td>\n",
       "      <td>4.0</td>\n",
       "      <td>192.0</td>\n",
       "      <td>7.0</td>\n",
       "      <td>5.0</td>\n",
       "      <td>4.0</td>\n",
       "      <td>0.0</td>\n",
       "      <td>0.0</td>\n",
       "      <td>...</td>\n",
       "      <td>0.0</td>\n",
       "      <td>0.000000</td>\n",
       "      <td>0.000000</td>\n",
       "      <td>0.00</td>\n",
       "      <td>0.0</td>\n",
       "      <td>0.000</td>\n",
       "      <td>0.000</td>\n",
       "      <td>0.000000</td>\n",
       "      <td>0.0</td>\n",
       "      <td>0</td>\n",
       "    </tr>\n",
       "  </tbody>\n",
       "</table>\n",
       "<p>15000 rows × 111 columns</p>\n",
       "</div>"
      ],
      "text/plain": [
       "       user_id  col_errtype_1  col_errtype_2  col_errtype_3  col_errtype_4  \\\n",
       "0        10000            0.0            0.0            8.0          104.0   \n",
       "1        10001            0.0            0.0            0.0            0.0   \n",
       "2        10002            0.0            0.0            2.0          132.0   \n",
       "3        10003            0.0            0.0            0.0            0.0   \n",
       "4        10004            0.0            0.0            0.0            1.0   \n",
       "...        ...            ...            ...            ...            ...   \n",
       "14995    24995            0.0            0.0            0.0            0.0   \n",
       "14996    24996            0.0            0.0            0.0            0.0   \n",
       "14997    24997            0.0            0.0            0.0            1.0   \n",
       "14998    24998            0.0            0.0            0.0            0.0   \n",
       "14999    24999            0.0            0.0            4.0          192.0   \n",
       "\n",
       "       col_errtype_5  col_errtype_6  col_errtype_7  col_errtype_8  \\\n",
       "0                0.0            1.0            1.0            0.0   \n",
       "1               53.0            1.0            1.0            0.0   \n",
       "2                1.0            2.0            1.0            0.0   \n",
       "3                2.0            1.0            1.0            0.0   \n",
       "4                0.0            3.0            4.0            0.0   \n",
       "...              ...            ...            ...            ...   \n",
       "14995            2.0            5.0            5.0            0.0   \n",
       "14996            0.0            0.0            0.0            0.0   \n",
       "14997            8.0            1.0            1.0            0.0   \n",
       "14998            0.0            0.0            0.0            0.0   \n",
       "14999            7.0            5.0            4.0            0.0   \n",
       "\n",
       "       col_errtype_9  ...  quality_4  quality_5  quality_6  quality_7  \\\n",
       "0                0.0  ...        0.0   0.500000   0.000000       0.00   \n",
       "1                0.0  ...        0.0   0.000000   0.000000       0.00   \n",
       "2                0.0  ...        0.0   0.343750   0.458333       5.75   \n",
       "3                0.0  ...        0.0   0.000000   0.000000       0.00   \n",
       "4                0.0  ...        0.0   0.250000   3.541667      43.50   \n",
       "...              ...  ...        ...        ...        ...        ...   \n",
       "14995            0.0  ...        0.0   0.625000  -0.416667       0.00   \n",
       "14996            0.0  ...        0.0   0.000000   0.000000       0.00   \n",
       "14997            0.0  ...        0.0   0.958333  -0.166667       0.00   \n",
       "14998            0.0  ...        0.0   0.000000   0.000000       0.00   \n",
       "14999            0.0  ...        0.0   0.000000   0.000000       0.00   \n",
       "\n",
       "       quality_8  quality_9  quality_10  quality_11  quality_12  y  \n",
       "0            0.0      0.000       6.000    0.000000         0.0  0  \n",
       "1            0.0      0.000       0.000    0.000000         0.0  1  \n",
       "2            0.0      0.125       3.875   -0.020833         0.0  0  \n",
       "3            0.0      0.000       0.000    0.000000         0.0  0  \n",
       "4            0.0      0.000       2.000   -0.083333         0.0  1  \n",
       "...          ...        ...         ...         ...         ... ..  \n",
       "14995        0.0      0.000       2.500   -0.416667         0.0  0  \n",
       "14996        0.0      0.000       0.000    0.000000         0.0  0  \n",
       "14997        0.0      0.000       9.500   -0.166667         0.0  1  \n",
       "14998        0.0      0.000       0.000    0.000000         0.0  1  \n",
       "14999        0.0      0.000       0.000    0.000000         0.0  0  \n",
       "\n",
       "[15000 rows x 111 columns]"
      ]
     },
     "execution_count": 65,
     "metadata": {},
     "output_type": "execute_result"
    }
   ],
   "source": [
    "train_data"
   ]
  },
  {
   "cell_type": "code",
   "execution_count": 66,
   "metadata": {},
   "outputs": [
    {
     "name": "stdout",
     "output_type": "stream",
     "text": [
      "[LightGBM] [Info] Number of positive: 3633, number of negative: 8367\n",
      "[LightGBM] [Warning] Auto-choosing col-wise multi-threading, the overhead of testing was 0.003277 seconds.\n",
      "You can set `force_col_wise=true` to remove the overhead.\n",
      "[LightGBM] [Info] Total Bins 14663\n",
      "[LightGBM] [Info] Number of data points in the train set: 12000, number of used features: 90\n",
      "[LightGBM] [Info] [binary:BoostFromScore]: pavg=0.302750 -> initscore=-0.834237\n",
      "[LightGBM] [Info] Start training from score -0.834237\n",
      "Training until validation scores don't improve for 10 rounds\n",
      "[30]\tvalid_0's auc: 0.816829\tvalid_0's pr_auc: 0.816313\n",
      "Early stopping, best iteration is:\n",
      "[37]\tvalid_0's auc: 0.819074\tvalid_0's pr_auc: 0.817878\n",
      "==========================================================\n",
      "[LightGBM] [Info] Number of positive: 4828, number of negative: 7172\n",
      "[LightGBM] [Warning] Auto-choosing col-wise multi-threading, the overhead of testing was 0.003290 seconds.\n",
      "You can set `force_col_wise=true` to remove the overhead.\n",
      "[LightGBM] [Info] Total Bins 14822\n",
      "[LightGBM] [Info] Number of data points in the train set: 12000, number of used features: 90\n",
      "[LightGBM] [Info] [binary:BoostFromScore]: pavg=0.402333 -> initscore=-0.395752\n",
      "[LightGBM] [Info] Start training from score -0.395752\n",
      "Training until validation scores don't improve for 10 rounds\n",
      "[30]\tvalid_0's auc: 0.812067\tvalid_0's pr_auc: 0.405046\n",
      "Early stopping, best iteration is:\n",
      "[31]\tvalid_0's auc: 0.812773\tvalid_0's pr_auc: 0.406172\n",
      "==========================================================\n",
      "[LightGBM] [Info] Number of positive: 4718, number of negative: 7282\n",
      "[LightGBM] [Warning] Auto-choosing col-wise multi-threading, the overhead of testing was 0.003514 seconds.\n",
      "You can set `force_col_wise=true` to remove the overhead.\n",
      "[LightGBM] [Info] Total Bins 14927\n",
      "[LightGBM] [Info] Number of data points in the train set: 12000, number of used features: 90\n",
      "[LightGBM] [Info] [binary:BoostFromScore]: pavg=0.393167 -> initscore=-0.434021\n",
      "[LightGBM] [Info] Start training from score -0.434021\n",
      "Training until validation scores don't improve for 10 rounds\n",
      "Early stopping, best iteration is:\n",
      "[19]\tvalid_0's auc: 0.785729\tvalid_0's pr_auc: 0.457995\n",
      "==========================================================\n",
      "[LightGBM] [Info] Number of positive: 4544, number of negative: 7456\n",
      "[LightGBM] [Warning] Auto-choosing row-wise multi-threading, the overhead of testing was 0.007969 seconds.\n",
      "You can set `force_row_wise=true` to remove the overhead.\n",
      "And if memory is not enough, you can set `force_col_wise=true`.\n",
      "[LightGBM] [Info] Total Bins 14826\n",
      "[LightGBM] [Info] Number of data points in the train set: 12000, number of used features: 90\n",
      "[LightGBM] [Info] [binary:BoostFromScore]: pavg=0.378667 -> initscore=-0.495211\n",
      "[LightGBM] [Info] Start training from score -0.495211\n",
      "Training until validation scores don't improve for 10 rounds\n",
      "Early stopping, best iteration is:\n",
      "[19]\tvalid_0's auc: 0.822448\tvalid_0's pr_auc: 0.562976\n",
      "==========================================================\n",
      "[LightGBM] [Info] Number of positive: 2277, number of negative: 9723\n",
      "[LightGBM] [Warning] Auto-choosing col-wise multi-threading, the overhead of testing was 0.003430 seconds.\n",
      "You can set `force_col_wise=true` to remove the overhead.\n",
      "[LightGBM] [Info] Total Bins 14576\n",
      "[LightGBM] [Info] Number of data points in the train set: 12000, number of used features: 90\n",
      "[LightGBM] [Info] [binary:BoostFromScore]: pavg=0.189750 -> initscore=-1.451635\n",
      "[LightGBM] [Info] Start training from score -1.451635\n",
      "Training until validation scores don't improve for 10 rounds\n",
      "[30]\tvalid_0's auc: 0.813575\tvalid_0's pr_auc: 0.976186\n",
      "Early stopping, best iteration is:\n",
      "[32]\tvalid_0's auc: 0.814339\tvalid_0's pr_auc: 0.976313\n",
      "==========================================================\n"
     ]
    }
   ],
   "source": [
    "def f_pr_auc(probas_pred, y_true):\n",
    "    labels=y_true.get_label()\n",
    "    p, r, _ = precision_recall_curve(labels, probas_pred)\n",
    "    score=auc(r,p) \n",
    "    return \"pr_auc\", score, True\n",
    "#-------------------------------------------------------------------------------------\n",
    "models     = []\n",
    "recalls    = []\n",
    "precisions = []\n",
    "auc_scores   = []\n",
    "threshold = 0.5\n",
    "# 파라미터 설정\n",
    "params =      {\n",
    "                'boosting_type' : 'gbdt',\n",
    "                'objective'     : 'binary',\n",
    "                'metric'        : 'auc',\n",
    "                'seed': 1015,\n",
    "                'n_estimators':3000\n",
    "                }\n",
    "#-------------------------------------------------------------------------------------\n",
    "# 5 Kfold cross validation\n",
    "k_fold = KFold(n_splits=5, shuffle=True, random_state=42)\n",
    "for train_idx, val_idx in k_fold.split(train_x):\n",
    "\n",
    "    # split train, validation set\n",
    "    X = train_x.loc[train_idx,:]\n",
    "    y = train_y.loc[train_idx,:]\n",
    "    valid_x = train_x.loc[val_idx,:]\n",
    "    valid_y = train_y.loc[val_idx,:]\n",
    "\n",
    "    d_train= lgb.Dataset(X, y)\n",
    "    d_val  = lgb.Dataset(valid_x, valid_y)\n",
    "    \n",
    "    #run traning\n",
    "    model = lgb.train(\n",
    "                        params,\n",
    "                        train_set       = d_train,\n",
    "                        num_boost_round = 1000,\n",
    "                        valid_sets      = d_val,\n",
    "                        feval           = f_pr_auc,\n",
    "                        verbose_eval    = 30, \n",
    "                        early_stopping_rounds = 10\n",
    "                       )\n",
    "    \n",
    "    # cal valid prediction\n",
    "    valid_prob = model.predict(valid_x)\n",
    "    valid_pred = np.where(valid_prob > threshold, 1, 0)\n",
    "    \n",
    "    # cal scores\n",
    "    recall    = recall_score(    valid_y, valid_pred)\n",
    "    precision = precision_score( valid_y, valid_pred)\n",
    "    auc_score = roc_auc_score(   valid_y, valid_prob)\n",
    "\n",
    "    # append scores\n",
    "    models.append(model)\n",
    "    recalls.append(recall)\n",
    "    precisions.append(precision)\n",
    "    auc_scores.append(auc_score)\n",
    "\n",
    "    print('==========================================================')"
   ]
  },
  {
   "cell_type": "code",
   "execution_count": 67,
   "metadata": {},
   "outputs": [
    {
     "name": "stdout",
     "output_type": "stream",
     "text": [
      "0.8108726280819774\n"
     ]
    }
   ],
   "source": [
    "#0.8139364493841612, 0.8137698954081596\n",
    "print(np.mean(auc_scores))"
   ]
  },
  {
   "cell_type": "code",
   "execution_count": 68,
   "metadata": {},
   "outputs": [],
   "source": [
    "test_ids = np.unique(test_err['user_id'])"
   ]
  },
  {
   "cell_type": "code",
   "execution_count": 71,
   "metadata": {},
   "outputs": [],
   "source": [
    "test_errtype_pivot = make_pivot_table(test_err, 'errtype')\n",
    "test_errcode_pivot = make_pivot_table(test_err, 'errcode')\n",
    "test_model_pivot = make_pivot_table(test_err, 'model_nm', True)\n",
    "test_fwver_pivot = make_pivot_table(test_err, 'fwver', True, train_err, True)\n",
    "\n",
    "test_md_pivot = make_pivot_table(test_err, 'md')\n",
    "test_all_error = test_err.groupby(['user_id']).size().to_frame('all_error').reset_index()"
   ]
  },
  {
   "cell_type": "code",
   "execution_count": 72,
   "metadata": {},
   "outputs": [],
   "source": [
    "test_data = pd.DataFrame({'user_id': test_ids})\n",
    "test_data = pd.merge(test_data, test_errtype_pivot, on='user_id', how='left')\n",
    "#test_data = pd.merge(test_data, test_errcode_pivot, on='user_id', how='left')\n",
    "test_data = pd.merge(test_data, test_all_error, on='user_id', how='left')\n",
    "test_data = pd.merge(test_data, test_change_df, on='user_id', how='left')\n",
    "test_data = pd.merge(test_data, test_md_pivot, on='user_id', how='left')\n",
    "\n",
    "test_data = pd.merge(test_data, test_model_pivot, on='user_id', how='left')\n",
    "#test_data = pd.merge(test_data, model_df, on='user_id', how='left')"
   ]
  },
  {
   "cell_type": "code",
   "execution_count": 73,
   "metadata": {},
   "outputs": [],
   "source": [
    "\n",
    "change_df_cols = ['upgrade','downgrade','change_model','change_version','change_all']\n",
    "for col in change_df_cols:\n",
    "    test_data[col] = test_data[col].fillna(0)\n"
   ]
  },
  {
   "cell_type": "code",
   "execution_count": 74,
   "metadata": {},
   "outputs": [],
   "source": [
    "# qua 합치기\n",
    "quality_cols = [f'quality_{i}' for i in range(13)]\n",
    "test_qua_pivot = processing_qua(test_qua)\n",
    "test_data = pd.merge(test_data, test_qua_pivot, on='user_id', how='left')\n",
    "for col in quality_cols:\n",
    "    test_data[col] = test_data[col].fillna(0)\n"
   ]
  },
  {
   "cell_type": "code",
   "execution_count": 75,
   "metadata": {},
   "outputs": [],
   "source": [
    "test_x = test_data.loc[:,~test_data.columns.isin(['y','user_id'])]\n",
    "test_x = test_x.loc[:,x_columns]"
   ]
  },
  {
   "cell_type": "code",
   "execution_count": null,
   "metadata": {},
   "outputs": [],
   "source": []
  },
  {
   "cell_type": "code",
   "execution_count": null,
   "metadata": {},
   "outputs": [],
   "source": []
  },
  {
   "cell_type": "code",
   "execution_count": 76,
   "metadata": {},
   "outputs": [],
   "source": [
    "pred_y_list = []\n",
    "for model in models:\n",
    "    pred_y = model.predict(test_x)\n",
    "    pred_y_list.append(pred_y.reshape(-1,1))\n",
    "    \n",
    "pred_ensemble = np.mean(pred_y_list, axis = 0)"
   ]
  },
  {
   "cell_type": "code",
   "execution_count": 80,
   "metadata": {},
   "outputs": [
    {
     "data": {
      "text/plain": [
       "<AxesSubplot:ylabel='Density'>"
      ]
     },
     "execution_count": 80,
     "metadata": {},
     "output_type": "execute_result"
    },
    {
     "data": {
      "image/png": "[encoded data removed]",
      "text/plain": [
       "<Figure size 1080x648 with 1 Axes>"
      ]
     },
     "metadata": {
      "needs_background": "light"
     },
     "output_type": "display_data"
    }
   ],
   "source": [
    "plt.figure(figsize=(15,9))\n",
    "sns.distplot(pred_ensemble)"
   ]
  },
  {
   "cell_type": "code",
   "execution_count": 504,
   "metadata": {},
   "outputs": [
    {
     "data": {
      "text/plain": [
       "<AxesSubplot:ylabel='Density'>"
      ]
     },
     "execution_count": 504,
     "metadata": {},
     "output_type": "execute_result"
    },
    {
     "data": {
      "image/png": "[encoded data removed]",
      "text/plain": [
       "<Figure size 1080x648 with 1 Axes>"
      ]
     },
     "metadata": {
      "needs_background": "light"
     },
     "output_type": "display_data"
    }
   ],
   "source": [
    "plt.figure(figsize=(15,9))\n",
    "sns.distplot(pred_ensemble)"
   ]
  },
  {
   "cell_type": "code",
   "execution_count": null,
   "metadata": {},
   "outputs": [],
   "source": []
  },
  {
   "cell_type": "code",
   "execution_count": 478,
   "metadata": {},
   "outputs": [
    {
     "data": {
      "text/plain": [
       "<AxesSubplot:ylabel='Density'>"
      ]
     },
     "execution_count": 478,
     "metadata": {},
     "output_type": "execute_result"
    },
    {
     "data": {
      "image/png": "[encoded data removed]",
      "text/plain": [
       "<Figure size 1080x648 with 1 Axes>"
      ]
     },
     "metadata": {
      "needs_background": "light"
     },
     "output_type": "display_data"
    }
   ],
   "source": [
    "plt.figure(figsize=(15,9))\n",
    "sns.distplot(pred_ensemble)"
   ]
  },
  {
   "cell_type": "code",
   "execution_count": null,
   "metadata": {},
   "outputs": [],
   "source": []
  },
  {
   "cell_type": "code",
   "execution_count": null,
   "metadata": {},
   "outputs": [],
   "source": []
  },
  {
   "cell_type": "code",
   "execution_count": null,
   "metadata": {},
   "outputs": [],
   "source": []
  },
  {
   "cell_type": "code",
   "execution_count": 383,
   "metadata": {},
   "outputs": [
    {
     "data": {
      "text/plain": [
       "<AxesSubplot:ylabel='Density'>"
      ]
     },
     "execution_count": 383,
     "metadata": {},
     "output_type": "execute_result"
    },
    {
     "data": {
      "image/png": "[encoded data removed]",
      "text/plain": [
       "<Figure size 1080x648 with 1 Axes>"
      ]
     },
     "metadata": {
      "needs_background": "light"
     },
     "output_type": "display_data"
    }
   ],
   "source": [
    "plt.figure(figsize=(15,9))\n",
    "sns.distplot(pred_ensemble)"
   ]
  },
  {
   "cell_type": "code",
   "execution_count": null,
   "metadata": {},
   "outputs": [],
   "source": []
  },
  {
   "cell_type": "code",
   "execution_count": 192,
   "metadata": {},
   "outputs": [
    {
     "data": {
      "text/plain": [
       "<AxesSubplot:ylabel='Density'>"
      ]
     },
     "execution_count": 192,
     "metadata": {},
     "output_type": "execute_result"
    },
    {
     "data": {
      "image/png": "[encoded data removed]",
      "text/plain": [
       "<Figure size 1080x648 with 1 Axes>"
      ]
     },
     "metadata": {
      "needs_background": "light"
     },
     "output_type": "display_data"
    }
   ],
   "source": [
    "plt.figure(figsize=(15,9))\n",
    "sns.distplot(pred_ensemble)"
   ]
  },
  {
   "cell_type": "code",
   "execution_count": 81,
   "metadata": {},
   "outputs": [],
   "source": [
    "sample_sub = pd.read_csv(data_path+'/sample_submission.csv')\n",
    "sample_sub = sample_sub.drop('problem', axis=1)"
   ]
  },
  {
   "cell_type": "code",
   "execution_count": 82,
   "metadata": {},
   "outputs": [],
   "source": [
    "pred_y = pd.DataFrame({'user_id':test_data['user_id'], 'problem':pred_ensemble[:,0]})"
   ]
  },
  {
   "cell_type": "code",
   "execution_count": 83,
   "metadata": {},
   "outputs": [],
   "source": [
    "sample_sub = pd.merge(sample_sub, pred_y, on='user_id', how='left')\n",
    "sample_sub['problem'] = sample_sub['problem'].fillna(0)"
   ]
  },
  {
   "cell_type": "code",
   "execution_count": 84,
   "metadata": {},
   "outputs": [],
   "source": [
    "sample_sub.to_csv(\"result_new2.csv\", index = False)"
   ]
  },
  {
   "cell_type": "code",
   "execution_count": 119,
   "metadata": {},
   "outputs": [
    {
     "data": {
      "text/html": [
       "<div>\n",
       "<style scoped>\n",
       "    .dataframe tbody tr th:only-of-type {\n",
       "        vertical-align: middle;\n",
       "    }\n",
       "\n",
       "    .dataframe tbody tr th {\n",
       "        vertical-align: top;\n",
       "    }\n",
       "\n",
       "    .dataframe thead th {\n",
       "        text-align: right;\n",
       "    }\n",
       "</style>\n",
       "<table border=\"1\" class=\"dataframe\">\n",
       "  <thead>\n",
       "    <tr style=\"text-align: right;\">\n",
       "      <th></th>\n",
       "      <th>user_id</th>\n",
       "      <th>problem</th>\n",
       "    </tr>\n",
       "  </thead>\n",
       "  <tbody>\n",
       "    <tr>\n",
       "      <th>0</th>\n",
       "      <td>30000</td>\n",
       "      <td>0.577556</td>\n",
       "    </tr>\n",
       "    <tr>\n",
       "      <th>1</th>\n",
       "      <td>30001</td>\n",
       "      <td>0.260899</td>\n",
       "    </tr>\n",
       "    <tr>\n",
       "      <th>2</th>\n",
       "      <td>30002</td>\n",
       "      <td>0.315576</td>\n",
       "    </tr>\n",
       "    <tr>\n",
       "      <th>3</th>\n",
       "      <td>30003</td>\n",
       "      <td>0.535576</td>\n",
       "    </tr>\n",
       "    <tr>\n",
       "      <th>4</th>\n",
       "      <td>30004</td>\n",
       "      <td>0.454501</td>\n",
       "    </tr>\n",
       "    <tr>\n",
       "      <th>...</th>\n",
       "      <td>...</td>\n",
       "      <td>...</td>\n",
       "    </tr>\n",
       "    <tr>\n",
       "      <th>14994</th>\n",
       "      <td>44994</td>\n",
       "      <td>0.329001</td>\n",
       "    </tr>\n",
       "    <tr>\n",
       "      <th>14995</th>\n",
       "      <td>44995</td>\n",
       "      <td>0.315880</td>\n",
       "    </tr>\n",
       "    <tr>\n",
       "      <th>14996</th>\n",
       "      <td>44996</td>\n",
       "      <td>0.383020</td>\n",
       "    </tr>\n",
       "    <tr>\n",
       "      <th>14997</th>\n",
       "      <td>44997</td>\n",
       "      <td>0.616116</td>\n",
       "    </tr>\n",
       "    <tr>\n",
       "      <th>14998</th>\n",
       "      <td>44998</td>\n",
       "      <td>0.343483</td>\n",
       "    </tr>\n",
       "  </tbody>\n",
       "</table>\n",
       "<p>14999 rows × 2 columns</p>\n",
       "</div>"
      ],
      "text/plain": [
       "       user_id   problem\n",
       "0        30000  0.577556\n",
       "1        30001  0.260899\n",
       "2        30002  0.315576\n",
       "3        30003  0.535576\n",
       "4        30004  0.454501\n",
       "...        ...       ...\n",
       "14994    44994  0.329001\n",
       "14995    44995  0.315880\n",
       "14996    44996  0.383020\n",
       "14997    44997  0.616116\n",
       "14998    44998  0.343483\n",
       "\n",
       "[14999 rows x 2 columns]"
      ]
     },
     "execution_count": 119,
     "metadata": {},
     "output_type": "execute_result"
    }
   ],
   "source": [
    "sample_sub"
   ]
  },
  {
   "cell_type": "code",
   "execution_count": null,
   "metadata": {},
   "outputs": [],
   "source": []
  },
  {
   "cell_type": "code",
   "execution_count": 145,
   "metadata": {},
   "outputs": [
    {
     "data": {
      "text/plain": [
       "<AxesSubplot:xlabel='problem', ylabel='Density'>"
      ]
     },
     "execution_count": 145,
     "metadata": {},
     "output_type": "execute_result"
    },
    {
     "data": {
      "image/png": "[encoded data removed]",
      "text/plain": [
       "<Figure size 1080x648 with 1 Axes>"
      ]
     },
     "metadata": {
      "needs_background": "light"
     },
     "output_type": "display_data"
    }
   ],
   "source": [
    "plt.figure(figsize=(15,9))\n",
    "sns.distplot(sample_sub['problem'])"
   ]
  },
  {
   "cell_type": "code",
   "execution_count": 140,
   "metadata": {},
   "outputs": [
    {
     "data": {
      "text/plain": [
       "<AxesSubplot:ylabel='Density'>"
      ]
     },
     "execution_count": 140,
     "metadata": {},
     "output_type": "execute_result"
    },
    {
     "data": {
      "image/png": "[encoded data removed]",
      "text/plain": [
       "<Figure size 1080x648 with 1 Axes>"
      ]
     },
     "metadata": {
      "needs_background": "light"
     },
     "output_type": "display_data"
    }
   ],
   "source": [
    "plt.figure(figsize=(15,9))\n",
    "sns.distplot(pred_ensemble)\n"
   ]
  },
  {
   "cell_type": "code",
   "execution_count": null,
   "metadata": {},
   "outputs": [],
   "source": []
  },
  {
   "cell_type": "code",
   "execution_count": 12,
   "metadata": {},
   "outputs": [],
   "source": [
    "temp_err = pd.read_csv(data_path+'/train_err_data.csv')"
   ]
  },
  {
   "cell_type": "code",
   "execution_count": 13,
   "metadata": {},
   "outputs": [],
   "source": [
    "train_user_id_max = 24999\n",
    "train_user_id_min = 10000\n",
    "train_user_number = 15000"
   ]
  },
  {
   "cell_type": "code",
   "execution_count": 14,
   "metadata": {},
   "outputs": [
    {
     "name": "stderr",
     "output_type": "stream",
     "text": [
      "100%|██████████| 16554663/16554663 [00:36<00:00, 455401.94it/s]\n"
     ]
    },
    {
     "data": {
      "text/plain": [
       "(15000, 42)"
      ]
     },
     "execution_count": 14,
     "metadata": {},
     "output_type": "execute_result"
    }
   ],
   "source": [
    "\n",
    "id_error = temp_err[['user_id','errtype']].values\n",
    "error = np.zeros((train_user_number,42))\n",
    "\n",
    "for person_idx, err in tqdm(id_error):\n",
    "    # person_idx - train_user_id_min 위치에 person_idx, errtype에 해당하는 error값을 +1\n",
    "    error[person_idx - train_user_id_min,err - 1] += 1\n",
    "error.shape"
   ]
  },
  {
   "cell_type": "code",
   "execution_count": 32,
   "metadata": {},
   "outputs": [
    {
     "data": {
      "text/plain": [
       "(15000,)"
      ]
     },
     "execution_count": 32,
     "metadata": {},
     "output_type": "execute_result"
    }
   ],
   "source": [
    "temp_prob = pd.read_csv(data_path+'/train_problem_data.csv')\n",
    "problem = np.zeros(15000)\n",
    "# error와 동일한 방법으로 person_idx - 10000 위치에 \n",
    "# person_idx의 problem이 한 번이라도 발생했다면 1\n",
    "# 없다면 0\n",
    "problem[temp_prob.user_id.unique()-10000] = 1 \n",
    "problem.shape"
   ]
  },
  {
   "cell_type": "code",
   "execution_count": 33,
   "metadata": {},
   "outputs": [
    {
     "name": "stdout",
     "output_type": "stream",
     "text": [
      "(15000, 42)\n",
      "(15000,)\n"
     ]
    }
   ],
   "source": [
    "# 변수 이름 변경\n",
    "# error  -> train_x\n",
    "# problem-> train_y\n",
    "\n",
    "train_x = error\n",
    "train_y = problem\n",
    "del error, problem\n",
    "print(train_x.shape)\n",
    "print(train_y.shape)"
   ]
  },
  {
   "cell_type": "code",
   "execution_count": null,
   "metadata": {},
   "outputs": [],
   "source": []
  }
 ],
 "metadata": {
  "kernelspec": {
   "display_name": "Python 3",
   "language": "python",
   "name": "python3"
  },
  "language_info": {
   "codemirror_mode": {
    "name": "ipython",
    "version": 3
   },
   "file_extension": ".py",
   "mimetype": "text/x-python",
   "name": "python",
   "nbconvert_exporter": "python",
   "pygments_lexer": "ipython3",
   "version": "3.7.7"
  }
 },
 "nbformat": 4,
 "nbformat_minor": 4
}
